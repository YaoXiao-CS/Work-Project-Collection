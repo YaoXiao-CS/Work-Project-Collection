{
 "cells": [
  {
   "cell_type": "markdown",
   "id": "0633eae0-179c-4ab1-9456-caca00989fad",
   "metadata": {},
   "source": [
    "#### Fine-Tuning SegFormer for Improved Lane Detection "
   ]
  },
  {
   "cell_type": "code",
   "execution_count": 1,
   "id": "2cf43d88",
   "metadata": {},
   "outputs": [
    {
     "name": "stdout",
     "output_type": "stream",
     "text": [
      "Looking in indexes: https://pypi.tuna.tsinghua.edu.cn/simple, https://pypi.ngc.nvidia.com\n",
      "Collecting transformers\n",
      "  Downloading https://pypi.tuna.tsinghua.edu.cn/packages/db/88/1ef8a624a33d7fe460a686b9e0194a7916320fc0d67d4e38e570beeac039/transformers-4.46.0-py3-none-any.whl (10.0 MB)\n",
      "\u001b[2K     \u001b[90m━━━━━━━━━━━━━━━━━━━━━━━━━━━━━━━━━━━━━━━━\u001b[0m \u001b[32m10.0/10.0 MB\u001b[0m \u001b[31m2.9 MB/s\u001b[0m eta \u001b[36m0:00:00\u001b[0m0:01\u001b[0m00:01\u001b[0m0m\n",
      "\u001b[?25hRequirement already satisfied: filelock in /usr/local/lib/python3.10/dist-packages (from transformers) (3.12.2)\n",
      "Collecting huggingface-hub<1.0,>=0.23.2 (from transformers)\n",
      "  Downloading https://pypi.tuna.tsinghua.edu.cn/packages/d7/4d/017d8d7cff5100092da8ea19139bcb1965bbadcbb5ddd0480e2badc299e8/huggingface_hub-0.26.1-py3-none-any.whl (447 kB)\n",
      "\u001b[2K     \u001b[90m━━━━━━━━━━━━━━━━━━━━━━━━━━━━━━━━━━━━━━━\u001b[0m \u001b[32m447.4/447.4 kB\u001b[0m \u001b[31m8.0 MB/s\u001b[0m eta \u001b[36m0:00:00\u001b[0ma \u001b[36m0:00:01\u001b[0m\n",
      "\u001b[?25hRequirement already satisfied: numpy>=1.17 in /usr/local/lib/python3.10/dist-packages (from transformers) (1.22.2)\n",
      "Requirement already satisfied: packaging>=20.0 in /usr/local/lib/python3.10/dist-packages (from transformers) (23.1)\n",
      "Requirement already satisfied: pyyaml>=5.1 in /usr/local/lib/python3.10/dist-packages (from transformers) (6.0.1)\n",
      "Requirement already satisfied: regex!=2019.12.17 in /usr/local/lib/python3.10/dist-packages (from transformers) (2023.6.3)\n",
      "Requirement already satisfied: requests in /usr/local/lib/python3.10/dist-packages (from transformers) (2.31.0)\n",
      "Collecting safetensors>=0.4.1 (from transformers)\n",
      "  Downloading https://pypi.tuna.tsinghua.edu.cn/packages/b9/df/6f766b56690709d22e83836e4067a1109a7d84ea152a6deb5692743a2805/safetensors-0.4.5-cp310-cp310-manylinux_2_17_x86_64.manylinux2014_x86_64.whl (435 kB)\n",
      "\u001b[2K     \u001b[90m━━━━━━━━━━━━━━━━━━━━━━━━━━━━━━━━━━━━━━━\u001b[0m \u001b[32m435.0/435.0 kB\u001b[0m \u001b[31m7.0 MB/s\u001b[0m eta \u001b[36m0:00:00\u001b[0ma \u001b[36m0:00:01\u001b[0m\n",
      "\u001b[?25hCollecting tokenizers<0.21,>=0.20 (from transformers)\n",
      "  Downloading https://pypi.tuna.tsinghua.edu.cn/packages/4b/35/326b9642307a53b3d9ae145b5c7f157aae9ecaa930888f920124412e0bd2/tokenizers-0.20.1-cp310-cp310-manylinux_2_17_x86_64.manylinux2014_x86_64.whl (3.0 MB)\n",
      "\u001b[2K     \u001b[90m━━━━━━━━━━━━━━━━━━━━━━━━━━━━━━━━━━━━━━━━\u001b[0m \u001b[32m3.0/3.0 MB\u001b[0m \u001b[31m8.6 MB/s\u001b[0m eta \u001b[36m0:00:00\u001b[0ma \u001b[36m0:00:01\u001b[0m\n",
      "\u001b[?25hRequirement already satisfied: tqdm>=4.27 in /usr/local/lib/python3.10/dist-packages (from transformers) (4.65.0)\n",
      "Requirement already satisfied: fsspec>=2023.5.0 in /usr/local/lib/python3.10/dist-packages (from huggingface-hub<1.0,>=0.23.2->transformers) (2023.6.0)\n",
      "Requirement already satisfied: typing-extensions>=3.7.4.3 in /usr/local/lib/python3.10/dist-packages (from huggingface-hub<1.0,>=0.23.2->transformers) (4.7.1)\n",
      "Requirement already satisfied: charset-normalizer<4,>=2 in /usr/local/lib/python3.10/dist-packages (from requests->transformers) (3.2.0)\n",
      "Requirement already satisfied: idna<4,>=2.5 in /usr/local/lib/python3.10/dist-packages (from requests->transformers) (3.4)\n",
      "Requirement already satisfied: urllib3<3,>=1.21.1 in /usr/local/lib/python3.10/dist-packages (from requests->transformers) (1.26.16)\n",
      "Requirement already satisfied: certifi>=2017.4.17 in /usr/local/lib/python3.10/dist-packages (from requests->transformers) (2023.7.22)\n",
      "Installing collected packages: safetensors, huggingface-hub, tokenizers, transformers\n",
      "Successfully installed huggingface-hub-0.26.1 safetensors-0.4.5 tokenizers-0.20.1 transformers-4.46.0\n",
      "\u001b[33mWARNING: Running pip as the 'root' user can result in broken permissions and conflicting behaviour with the system package manager. It is recommended to use a virtual environment instead: https://pip.pypa.io/warnings/venv\u001b[0m\u001b[33m\n",
      "\u001b[0m\n",
      "\u001b[1m[\u001b[0m\u001b[34;49mnotice\u001b[0m\u001b[1;39;49m]\u001b[0m\u001b[39;49m A new release of pip is available: \u001b[0m\u001b[31;49m23.2.1\u001b[0m\u001b[39;49m -> \u001b[0m\u001b[32;49m24.2\u001b[0m\n",
      "\u001b[1m[\u001b[0m\u001b[34;49mnotice\u001b[0m\u001b[1;39;49m]\u001b[0m\u001b[39;49m To update, run: \u001b[0m\u001b[32;49mpython -m pip install --upgrade pip\u001b[0m\n"
     ]
    }
   ],
   "source": [
    "!pip install -i https://pypi.tuna.tsinghua.edu.cn/simple transformers"
   ]
  },
  {
   "cell_type": "code",
   "execution_count": 2,
   "id": "f988b40f-8ba6-4da5-8880-070e90a27db6",
   "metadata": {},
   "outputs": [
    {
     "name": "stderr",
     "output_type": "stream",
     "text": [
      "/usr/local/lib/python3.10/dist-packages/tqdm/auto.py:21: TqdmWarning: IProgress not found. Please update jupyter and ipywidgets. See https://ipywidgets.readthedocs.io/en/stable/user_install.html\n",
      "  from .autonotebook import tqdm as notebook_tqdm\n",
      "/usr/local/lib/python3.10/dist-packages/torchvision/datapoints/__init__.py:12: UserWarning: The torchvision.datapoints and torchvision.transforms.v2 namespaces are still Beta. While we do not expect major breaking changes, some APIs may still change according to user feedback. Please submit any feedback you may have in this issue: https://github.com/pytorch/vision/issues/6753, and you can also check out https://github.com/pytorch/vision/issues/7319 to learn more about the APIs that we suspect might involve future changes. You can silence this warning by calling torchvision.disable_beta_transforms_warning().\n",
      "  warnings.warn(_BETA_TRANSFORMS_WARNING)\n",
      "/usr/local/lib/python3.10/dist-packages/torchvision/transforms/v2/__init__.py:54: UserWarning: The torchvision.datapoints and torchvision.transforms.v2 namespaces are still Beta. While we do not expect major breaking changes, some APIs may still change according to user feedback. Please submit any feedback you may have in this issue: https://github.com/pytorch/vision/issues/6753, and you can also check out https://github.com/pytorch/vision/issues/7319 to learn more about the APIs that we suspect might involve future changes. You can silence this warning by calling torchvision.disable_beta_transforms_warning().\n",
      "  warnings.warn(_BETA_TRANSFORMS_WARNING)\n"
     ]
    }
   ],
   "source": [
    "import os\n",
    "import cv2\n",
    "import numpy as np\n",
    "import copy\n",
    "from tqdm import tqdm\n",
    "from PIL import Image\n",
    "import requests\n",
    "\n",
    "import torch\n",
    "from torch.utils.data import Dataset, DataLoader\n",
    "from torchvision.transforms.functional import to_tensor\n",
    "from torchvision import transforms as TF\n",
    "import torch.nn.functional as F\n",
    "from torch.optim import AdamW\n",
    "\n",
    "from transformers import SegformerForSemanticSegmentation\n",
    "from transformers import get_scheduler\n",
    "\n",
    "from sklearn.metrics import jaccard_score"
   ]
  },
  {
   "cell_type": "code",
   "execution_count": 3,
   "metadata": {},
   "outputs": [],
   "source": [
    "def download_dataset(url, local_filename):\n",
    "\n",
    "    # Update Dropbox link to force download.\n",
    "    if \"www.dropbox.com\" in url and \"?dl=0\" in url:\n",
    "        url = url.replace(\"?dl=0\", \"?dl=1\")\n",
    "    \n",
    "    # Send a GET request to the URL.\n",
    "    response = requests.get(url)\n",
    "    \n",
    "    # Check if the request was successful.\n",
    "    if response.status_code == 200:\n",
    "        # Write the content of the response to a file.\n",
    "        with open(local_filename, 'wb') as f:\n",
    "            f.write(response.content)\n",
    "        print(f\"File downloaded and saved as {local_filename}\")\n",
    "    else:\n",
    "        print(f\"Failed to download file. Status code: {response.status_code}\")"
   ]
  },
  {
   "cell_type": "code",
   "execution_count": 4,
   "metadata": {},
   "outputs": [],
   "source": [
    "# Download 10% sample of BDD100K Dataset.\n",
    "# download_dataset('https://www.dropbox.com/scl/fi/40onxgztkbtqxvsg2d6fk/deep_drive_10K.zip?rlkey=8h098tbe9dry81jidtte1d9j5&dl=1', 'BDD.zip')"
   ]
  },
  {
   "cell_type": "code",
   "execution_count": 5,
   "id": "927c1728-295d-4985-bfc0-57980d6b2e87",
   "metadata": {},
   "outputs": [],
   "source": [
    "class BDDDataset(Dataset):\n",
    "    def __init__(self, images_dir, masks_dir, transform=None):\n",
    "        self.images_dir = images_dir\n",
    "        self.masks_dir = masks_dir\n",
    "        self.transform = transform\n",
    "        self.images = [img for img in os.listdir(images_dir) if img.endswith('.jpg')]\n",
    "        self.masks = [mask.replace('.jpg', '.png') for mask in self.images]\n",
    "\n",
    "    def __len__(self):\n",
    "        return len(self.images)\n",
    "\n",
    "    def __getitem__(self, idx):\n",
    "        image_path = os.path.join(self.images_dir, self.images[idx])\n",
    "        mask_path = os.path.join(self.masks_dir, self.masks[idx])\n",
    "        image = Image.open(image_path).convert(\"RGB\")\n",
    "        mask = Image.open(mask_path).convert('L')  # Convert mask to grayscale.\n",
    "        \n",
    "        # Convert mask to binary format with 0 and 1 values.\n",
    "        mask = np.array(mask)\n",
    "        mask = (mask > 0).astype(np.uint8)  # Assuming non-zero pixels are lanes.\n",
    "        \n",
    "        # Convert to PIL Image for consistency in transforms.\n",
    "        mask = Image.fromarray(mask)\n",
    "\n",
    "        if self.transform:\n",
    "            image = self.transform(image)\n",
    "            # Assuming to_tensor transform is included which scales pixel values between 0-1.\n",
    "            # mask = to_tensor(mask)  # Convert the mask to [0, 1] range.\n",
    "        mask = TF.functional.resize(img=mask, size=[360, 640], interpolation=Image.NEAREST)\n",
    "        mask = TF.functional.to_tensor(mask)\n",
    "        mask = (mask > 0).long()  # Threshold back to binary and convert to LongTensor.\n",
    "\n",
    "        return image, mask\n",
    "\n",
    "def mean_iou(preds, labels, num_classes):\n",
    "    # Flatten predictions and labels.\n",
    "    preds_flat = preds.view(-1)\n",
    "    labels_flat = labels.view(-1)\n",
    "\n",
    "    # Check that the number of elements in the flattened predictions.\n",
    "    # and labels are equal.\n",
    "    if preds_flat.shape[0] != labels_flat.shape[0]:\n",
    "        raise ValueError(f\"Predictions and labels have mismatched shapes: \"\n",
    "                         f\"{preds_flat.shape} vs {labels_flat.shape}\")\n",
    "\n",
    "    # Calculate the Jaccard score for each class.\n",
    "    iou = jaccard_score(labels_flat.cpu().numpy(), preds_flat.cpu().numpy(),\n",
    "                        average=None, labels=range(num_classes))\n",
    "\n",
    "    # Return the mean IoU.\n",
    "    return np.mean(iou)"
   ]
  },
  {
   "cell_type": "code",
   "execution_count": 6,
   "id": "99b9bba1",
   "metadata": {},
   "outputs": [
    {
     "data": {
      "text/plain": [
       "'/workspace'"
      ]
     },
     "execution_count": 6,
     "metadata": {},
     "output_type": "execute_result"
    }
   ],
   "source": [
    "%pwd"
   ]
  },
  {
   "cell_type": "code",
   "execution_count": 7,
   "id": "ef43d5f1-4663-420d-bad9-96f30c291035",
   "metadata": {},
   "outputs": [],
   "source": [
    "# Define the appropriate transformations.\n",
    "transform = TF.Compose([\n",
    "    TF.Resize((360, 640)),\n",
    "    TF.ToTensor(),\n",
    "    TF.Normalize(mean=[0.485, 0.456, 0.406], std=[0.229, 0.224, 0.225])\n",
    "])\n",
    "\n",
    "# Create the dataset.\n",
    "train_dataset = BDDDataset(images_dir='./deep_drive_10K/train/images',\n",
    "                           masks_dir='./deep_drive_10K/train/masks',\n",
    "                           transform=transform)\n",
    "\n",
    "valid_dataset = BDDDataset(images_dir='./deep_drive_10K/valid/images',\n",
    "                           masks_dir='./deep_drive_10K/valid/masks',\n",
    "                           transform=transform)\n",
    "\n",
    "# Create the data loaders.\n",
    "train_loader = DataLoader(train_dataset, batch_size=4, shuffle=True, num_workers=6)\n",
    "valid_loader = DataLoader(valid_dataset, batch_size=4, shuffle=False, num_workers=6)"
   ]
  },
  {
   "cell_type": "code",
   "execution_count": 8,
   "id": "73f48c2a-f53a-494c-a6de-6d00cc93c350",
   "metadata": {},
   "outputs": [
    {
     "name": "stderr",
     "output_type": "stream",
     "text": [
      "/usr/local/lib/python3.10/dist-packages/torch/_utils.py:835: UserWarning: TypedStorage is deprecated. It will be removed in the future and UntypedStorage will be the only storage class. This should only matter to you if you are using storages directly.  To access UntypedStorage directly, use tensor.untyped_storage() instead of tensor.storage()\n",
      "  return self.fget.__get__(instance, owner)()\n"
     ]
    }
   ],
   "source": [
    "# Load the pre-trained model.\n",
    "# model = SegformerForSemanticSegmentation.from_pretrained('nvidia/segformer-b2-finetuned-ade-512-512').\n",
    "\"\"\"{\n",
    "OSError: We couldn't connect to 'https://huggingface.co' to load this file, couldn't find it in the cached files and it \n",
    "looks like nvidia/segformer-b2-finetuned-ade-512-512 is not the path to a directory containing a file named config.json.\n",
    "Checkout your internet connection or see how to run the library in offline mode at 'https://huggingface.co/docs/transformers/installation#offline-mode'.\"\n",
    "}\"\"\"\n",
    "model = SegformerForSemanticSegmentation.from_pretrained('./segformer-b2-finetuned-ade-512-512')\n",
    "\n",
    "# Adjust the number of classes for BDD dataset\n",
    "model.config.num_labels = 2  # Replace with the actual number of classes"
   ]
  },
  {
   "cell_type": "code",
   "execution_count": 9,
   "id": "009b29eb-64c8-4755-b0b9-ef81503e53f7",
   "metadata": {},
   "outputs": [],
   "source": [
    "# Check for CUDA acceleration.\n",
    "device = torch.device('cuda' if torch.cuda.is_available() else 'cpu')\n",
    "model.to(device);"
   ]
  },
  {
   "cell_type": "code",
   "execution_count": 10,
   "id": "dffa2aa2-bb21-41e1-9fd5-f96f269d358b",
   "metadata": {},
   "outputs": [
    {
     "name": "stderr",
     "output_type": "stream",
     "text": [
      "Epoch 1/30:   0%|                                                                                                                                                 | 0/1750 [00:00<?, ?batch/s]/tmp/ipykernel_411/1864876890.py:29: DeprecationWarning: NEAREST is deprecated and will be removed in Pillow 10 (2023-07-01). Use Resampling.NEAREST or Dither.NONE instead.\n",
      "  mask = TF.functional.resize(img=mask, size=[360, 640], interpolation=Image.NEAREST)\n",
      "/tmp/ipykernel_411/1864876890.py:29: DeprecationWarning: NEAREST is deprecated and will be removed in Pillow 10 (2023-07-01). Use Resampling.NEAREST or Dither.NONE instead.\n",
      "  mask = TF.functional.resize(img=mask, size=[360, 640], interpolation=Image.NEAREST)\n",
      "/tmp/ipykernel_411/1864876890.py:29: DeprecationWarning: NEAREST is deprecated and will be removed in Pillow 10 (2023-07-01). Use Resampling.NEAREST or Dither.NONE instead.\n",
      "  mask = TF.functional.resize(img=mask, size=[360, 640], interpolation=Image.NEAREST)\n",
      "/tmp/ipykernel_411/1864876890.py:29: DeprecationWarning: NEAREST is deprecated and will be removed in Pillow 10 (2023-07-01). Use Resampling.NEAREST or Dither.NONE instead.\n",
      "  mask = TF.functional.resize(img=mask, size=[360, 640], interpolation=Image.NEAREST)\n",
      "/tmp/ipykernel_411/1864876890.py:29: DeprecationWarning: NEAREST is deprecated and will be removed in Pillow 10 (2023-07-01). Use Resampling.NEAREST or Dither.NONE instead.\n",
      "  mask = TF.functional.resize(img=mask, size=[360, 640], interpolation=Image.NEAREST)\n",
      "/tmp/ipykernel_411/1864876890.py:29: DeprecationWarning: NEAREST is deprecated and will be removed in Pillow 10 (2023-07-01). Use Resampling.NEAREST or Dither.NONE instead.\n",
      "  mask = TF.functional.resize(img=mask, size=[360, 640], interpolation=Image.NEAREST)\n",
      "Epoch 1/30: 100%|█████████████████████████████████████████████████████████████████████████████████████████████████████████████████████████| 1750/1750 [12:26<00:00,  2.34batch/s, loss=0.0634]\n",
      "Validation:   0%|                                                                                                                                                          | 0/250 [00:00<?, ?batch/s]/tmp/ipykernel_411/1864876890.py:29: DeprecationWarning: NEAREST is deprecated and will be removed in Pillow 10 (2023-07-01). Use Resampling.NEAREST or Dither.NONE instead.\n",
      "  mask = TF.functional.resize(img=mask, size=[360, 640], interpolation=Image.NEAREST)\n",
      "/tmp/ipykernel_411/1864876890.py:29: DeprecationWarning: NEAREST is deprecated and will be removed in Pillow 10 (2023-07-01). Use Resampling.NEAREST or Dither.NONE instead.\n",
      "  mask = TF.functional.resize(img=mask, size=[360, 640], interpolation=Image.NEAREST)\n",
      "/tmp/ipykernel_411/1864876890.py:29: DeprecationWarning: NEAREST is deprecated and will be removed in Pillow 10 (2023-07-01). Use Resampling.NEAREST or Dither.NONE instead.\n",
      "  mask = TF.functional.resize(img=mask, size=[360, 640], interpolation=Image.NEAREST)\n",
      "/tmp/ipykernel_411/1864876890.py:29: DeprecationWarning: NEAREST is deprecated and will be removed in Pillow 10 (2023-07-01). Use Resampling.NEAREST or Dither.NONE instead.\n",
      "  mask = TF.functional.resize(img=mask, size=[360, 640], interpolation=Image.NEAREST)\n",
      "/tmp/ipykernel_411/1864876890.py:29: DeprecationWarning: NEAREST is deprecated and will be removed in Pillow 10 (2023-07-01). Use Resampling.NEAREST or Dither.NONE instead.\n",
      "  mask = TF.functional.resize(img=mask, size=[360, 640], interpolation=Image.NEAREST)\n",
      "/tmp/ipykernel_411/1864876890.py:29: DeprecationWarning: NEAREST is deprecated and will be removed in Pillow 10 (2023-07-01). Use Resampling.NEAREST or Dither.NONE instead.\n",
      "  mask = TF.functional.resize(img=mask, size=[360, 640], interpolation=Image.NEAREST)\n",
      "Validation: 100%|████████████████████████████████████████████████████████████████████████████████████████████████████████████████████████████████| 250/250 [00:58<00:00,  4.28batch/s, mean_iou=0.565]\n"
     ]
    },
    {
     "name": "stdout",
     "output_type": "stream",
     "text": [
      "Epoch 1/30 - Mean IoU: 0.5642\n",
      "Validation IoU improved from 0.0000 to 0.5642\n"
     ]
    },
    {
     "name": "stderr",
     "output_type": "stream",
     "text": [
      "Epoch 2/30:   0%|                                                                                                                                                         | 0/1750 [00:00<?, ?batch/s]/tmp/ipykernel_411/1864876890.py:29: DeprecationWarning: NEAREST is deprecated and will be removed in Pillow 10 (2023-07-01). Use Resampling.NEAREST or Dither.NONE instead.\n",
      "  mask = TF.functional.resize(img=mask, size=[360, 640], interpolation=Image.NEAREST)\n",
      "/tmp/ipykernel_411/1864876890.py:29: DeprecationWarning: NEAREST is deprecated and will be removed in Pillow 10 (2023-07-01). Use Resampling.NEAREST or Dither.NONE instead.\n",
      "  mask = TF.functional.resize(img=mask, size=[360, 640], interpolation=Image.NEAREST)\n",
      "/tmp/ipykernel_411/1864876890.py:29: DeprecationWarning: NEAREST is deprecated and will be removed in Pillow 10 (2023-07-01). Use Resampling.NEAREST or Dither.NONE instead.\n",
      "  mask = TF.functional.resize(img=mask, size=[360, 640], interpolation=Image.NEAREST)\n",
      "/tmp/ipykernel_411/1864876890.py:29: DeprecationWarning: NEAREST is deprecated and will be removed in Pillow 10 (2023-07-01). Use Resampling.NEAREST or Dither.NONE instead.\n",
      "  mask = TF.functional.resize(img=mask, size=[360, 640], interpolation=Image.NEAREST)\n",
      "/tmp/ipykernel_411/1864876890.py:29: DeprecationWarning: NEAREST is deprecated and will be removed in Pillow 10 (2023-07-01). Use Resampling.NEAREST or Dither.NONE instead.\n",
      "  mask = TF.functional.resize(img=mask, size=[360, 640], interpolation=Image.NEAREST)\n",
      "/tmp/ipykernel_411/1864876890.py:29: DeprecationWarning: NEAREST is deprecated and will be removed in Pillow 10 (2023-07-01). Use Resampling.NEAREST or Dither.NONE instead.\n",
      "  mask = TF.functional.resize(img=mask, size=[360, 640], interpolation=Image.NEAREST)\n",
      "Epoch 2/30: 100%|█████████████████████████████████████████████████████████████████████████████████████████████████████████████████████████████████| 1750/1750 [12:26<00:00,  2.34batch/s, loss=0.0415]\n",
      "Validation:   0%|                                                                                                                                                          | 0/250 [00:00<?, ?batch/s]/tmp/ipykernel_411/1864876890.py:29: DeprecationWarning: NEAREST is deprecated and will be removed in Pillow 10 (2023-07-01). Use Resampling.NEAREST or Dither.NONE instead.\n",
      "  mask = TF.functional.resize(img=mask, size=[360, 640], interpolation=Image.NEAREST)\n",
      "/tmp/ipykernel_411/1864876890.py:29: DeprecationWarning: NEAREST is deprecated and will be removed in Pillow 10 (2023-07-01). Use Resampling.NEAREST or Dither.NONE instead.\n",
      "  mask = TF.functional.resize(img=mask, size=[360, 640], interpolation=Image.NEAREST)\n",
      "/tmp/ipykernel_411/1864876890.py:29: DeprecationWarning: NEAREST is deprecated and will be removed in Pillow 10 (2023-07-01). Use Resampling.NEAREST or Dither.NONE instead.\n",
      "  mask = TF.functional.resize(img=mask, size=[360, 640], interpolation=Image.NEAREST)\n",
      "/tmp/ipykernel_411/1864876890.py:29: DeprecationWarning: NEAREST is deprecated and will be removed in Pillow 10 (2023-07-01). Use Resampling.NEAREST or Dither.NONE instead.\n",
      "  mask = TF.functional.resize(img=mask, size=[360, 640], interpolation=Image.NEAREST)\n",
      "/tmp/ipykernel_411/1864876890.py:29: DeprecationWarning: NEAREST is deprecated and will be removed in Pillow 10 (2023-07-01). Use Resampling.NEAREST or Dither.NONE instead.\n",
      "  mask = TF.functional.resize(img=mask, size=[360, 640], interpolation=Image.NEAREST)\n",
      "/tmp/ipykernel_411/1864876890.py:29: DeprecationWarning: NEAREST is deprecated and will be removed in Pillow 10 (2023-07-01). Use Resampling.NEAREST or Dither.NONE instead.\n",
      "  mask = TF.functional.resize(img=mask, size=[360, 640], interpolation=Image.NEAREST)\n",
      "Validation: 100%|████████████████████████████████████████████████████████████████████████████████████████████████████████████████████████████████| 250/250 [01:00<00:00,  4.14batch/s, mean_iou=0.581]\n"
     ]
    },
    {
     "name": "stdout",
     "output_type": "stream",
     "text": [
      "Epoch 2/30 - Mean IoU: 0.5774\n",
      "Validation IoU improved from 0.5642 to 0.5774\n"
     ]
    },
    {
     "name": "stderr",
     "output_type": "stream",
     "text": [
      "Epoch 3/30:   0%|                                                                                                                                                         | 0/1750 [00:00<?, ?batch/s]/tmp/ipykernel_411/1864876890.py:29: DeprecationWarning: NEAREST is deprecated and will be removed in Pillow 10 (2023-07-01). Use Resampling.NEAREST or Dither.NONE instead.\n",
      "  mask = TF.functional.resize(img=mask, size=[360, 640], interpolation=Image.NEAREST)\n",
      "/tmp/ipykernel_411/1864876890.py:29: DeprecationWarning: NEAREST is deprecated and will be removed in Pillow 10 (2023-07-01). Use Resampling.NEAREST or Dither.NONE instead.\n",
      "  mask = TF.functional.resize(img=mask, size=[360, 640], interpolation=Image.NEAREST)\n",
      "/tmp/ipykernel_411/1864876890.py:29: DeprecationWarning: NEAREST is deprecated and will be removed in Pillow 10 (2023-07-01). Use Resampling.NEAREST or Dither.NONE instead.\n",
      "  mask = TF.functional.resize(img=mask, size=[360, 640], interpolation=Image.NEAREST)\n",
      "/tmp/ipykernel_411/1864876890.py:29: DeprecationWarning: NEAREST is deprecated and will be removed in Pillow 10 (2023-07-01). Use Resampling.NEAREST or Dither.NONE instead.\n",
      "  mask = TF.functional.resize(img=mask, size=[360, 640], interpolation=Image.NEAREST)\n",
      "/tmp/ipykernel_411/1864876890.py:29: DeprecationWarning: NEAREST is deprecated and will be removed in Pillow 10 (2023-07-01). Use Resampling.NEAREST or Dither.NONE instead.\n",
      "  mask = TF.functional.resize(img=mask, size=[360, 640], interpolation=Image.NEAREST)\n",
      "/tmp/ipykernel_411/1864876890.py:29: DeprecationWarning: NEAREST is deprecated and will be removed in Pillow 10 (2023-07-01). Use Resampling.NEAREST or Dither.NONE instead.\n",
      "  mask = TF.functional.resize(img=mask, size=[360, 640], interpolation=Image.NEAREST)\n",
      "Epoch 3/30: 100%|█████████████████████████████████████████████████████████████████████████████████████████████████████████████████████████████████| 1750/1750 [12:23<00:00,  2.35batch/s, loss=0.0372]\n",
      "Validation:   0%|                                                                                                                                                          | 0/250 [00:00<?, ?batch/s]/tmp/ipykernel_411/1864876890.py:29: DeprecationWarning: NEAREST is deprecated and will be removed in Pillow 10 (2023-07-01). Use Resampling.NEAREST or Dither.NONE instead.\n",
      "  mask = TF.functional.resize(img=mask, size=[360, 640], interpolation=Image.NEAREST)\n",
      "/tmp/ipykernel_411/1864876890.py:29: DeprecationWarning: NEAREST is deprecated and will be removed in Pillow 10 (2023-07-01). Use Resampling.NEAREST or Dither.NONE instead.\n",
      "  mask = TF.functional.resize(img=mask, size=[360, 640], interpolation=Image.NEAREST)\n",
      "/tmp/ipykernel_411/1864876890.py:29: DeprecationWarning: NEAREST is deprecated and will be removed in Pillow 10 (2023-07-01). Use Resampling.NEAREST or Dither.NONE instead.\n",
      "  mask = TF.functional.resize(img=mask, size=[360, 640], interpolation=Image.NEAREST)\n",
      "/tmp/ipykernel_411/1864876890.py:29: DeprecationWarning: NEAREST is deprecated and will be removed in Pillow 10 (2023-07-01). Use Resampling.NEAREST or Dither.NONE instead.\n",
      "  mask = TF.functional.resize(img=mask, size=[360, 640], interpolation=Image.NEAREST)\n",
      "/tmp/ipykernel_411/1864876890.py:29: DeprecationWarning: NEAREST is deprecated and will be removed in Pillow 10 (2023-07-01). Use Resampling.NEAREST or Dither.NONE instead.\n",
      "  mask = TF.functional.resize(img=mask, size=[360, 640], interpolation=Image.NEAREST)\n",
      "/tmp/ipykernel_411/1864876890.py:29: DeprecationWarning: NEAREST is deprecated and will be removed in Pillow 10 (2023-07-01). Use Resampling.NEAREST or Dither.NONE instead.\n",
      "  mask = TF.functional.resize(img=mask, size=[360, 640], interpolation=Image.NEAREST)\n",
      "Validation: 100%|█████████████████████████████████████████████████████████████████████████████████████████████████████████████████████████████████| 250/250 [00:57<00:00,  4.32batch/s, mean_iou=0.58]\n"
     ]
    },
    {
     "name": "stdout",
     "output_type": "stream",
     "text": [
      "Epoch 3/30 - Mean IoU: 0.5854\n",
      "Validation IoU improved from 0.5774 to 0.5854\n"
     ]
    },
    {
     "name": "stderr",
     "output_type": "stream",
     "text": [
      "Epoch 4/30:   0%|                                                                                                                                                         | 0/1750 [00:00<?, ?batch/s]/tmp/ipykernel_411/1864876890.py:29: DeprecationWarning: NEAREST is deprecated and will be removed in Pillow 10 (2023-07-01). Use Resampling.NEAREST or Dither.NONE instead.\n",
      "  mask = TF.functional.resize(img=mask, size=[360, 640], interpolation=Image.NEAREST)\n",
      "/tmp/ipykernel_411/1864876890.py:29: DeprecationWarning: NEAREST is deprecated and will be removed in Pillow 10 (2023-07-01). Use Resampling.NEAREST or Dither.NONE instead.\n",
      "  mask = TF.functional.resize(img=mask, size=[360, 640], interpolation=Image.NEAREST)\n",
      "/tmp/ipykernel_411/1864876890.py:29: DeprecationWarning: NEAREST is deprecated and will be removed in Pillow 10 (2023-07-01). Use Resampling.NEAREST or Dither.NONE instead.\n",
      "  mask = TF.functional.resize(img=mask, size=[360, 640], interpolation=Image.NEAREST)\n",
      "/tmp/ipykernel_411/1864876890.py:29: DeprecationWarning: NEAREST is deprecated and will be removed in Pillow 10 (2023-07-01). Use Resampling.NEAREST or Dither.NONE instead.\n",
      "  mask = TF.functional.resize(img=mask, size=[360, 640], interpolation=Image.NEAREST)\n",
      "/tmp/ipykernel_411/1864876890.py:29: DeprecationWarning: NEAREST is deprecated and will be removed in Pillow 10 (2023-07-01). Use Resampling.NEAREST or Dither.NONE instead.\n",
      "  mask = TF.functional.resize(img=mask, size=[360, 640], interpolation=Image.NEAREST)\n",
      "/tmp/ipykernel_411/1864876890.py:29: DeprecationWarning: NEAREST is deprecated and will be removed in Pillow 10 (2023-07-01). Use Resampling.NEAREST or Dither.NONE instead.\n",
      "  mask = TF.functional.resize(img=mask, size=[360, 640], interpolation=Image.NEAREST)\n",
      "Epoch 4/30: 100%|██████████████████████████████████████████████████████████████████████████████████████████████████████████████████████████████████| 1750/1750 [12:26<00:00,  2.34batch/s, loss=0.052]\n",
      "Validation:   0%|                                                                                                                                                          | 0/250 [00:00<?, ?batch/s]/tmp/ipykernel_411/1864876890.py:29: DeprecationWarning: NEAREST is deprecated and will be removed in Pillow 10 (2023-07-01). Use Resampling.NEAREST or Dither.NONE instead.\n",
      "  mask = TF.functional.resize(img=mask, size=[360, 640], interpolation=Image.NEAREST)\n",
      "/tmp/ipykernel_411/1864876890.py:29: DeprecationWarning: NEAREST is deprecated and will be removed in Pillow 10 (2023-07-01). Use Resampling.NEAREST or Dither.NONE instead.\n",
      "  mask = TF.functional.resize(img=mask, size=[360, 640], interpolation=Image.NEAREST)\n",
      "/tmp/ipykernel_411/1864876890.py:29: DeprecationWarning: NEAREST is deprecated and will be removed in Pillow 10 (2023-07-01). Use Resampling.NEAREST or Dither.NONE instead.\n",
      "  mask = TF.functional.resize(img=mask, size=[360, 640], interpolation=Image.NEAREST)\n",
      "/tmp/ipykernel_411/1864876890.py:29: DeprecationWarning: NEAREST is deprecated and will be removed in Pillow 10 (2023-07-01). Use Resampling.NEAREST or Dither.NONE instead.\n",
      "  mask = TF.functional.resize(img=mask, size=[360, 640], interpolation=Image.NEAREST)\n",
      "/tmp/ipykernel_411/1864876890.py:29: DeprecationWarning: NEAREST is deprecated and will be removed in Pillow 10 (2023-07-01). Use Resampling.NEAREST or Dither.NONE instead.\n",
      "  mask = TF.functional.resize(img=mask, size=[360, 640], interpolation=Image.NEAREST)\n",
      "/tmp/ipykernel_411/1864876890.py:29: DeprecationWarning: NEAREST is deprecated and will be removed in Pillow 10 (2023-07-01). Use Resampling.NEAREST or Dither.NONE instead.\n",
      "  mask = TF.functional.resize(img=mask, size=[360, 640], interpolation=Image.NEAREST)\n",
      "Validation: 100%|████████████████████████████████████████████████████████████████████████████████████████████████████████████████████████████████| 250/250 [00:58<00:00,  4.28batch/s, mean_iou=0.587]\n"
     ]
    },
    {
     "name": "stdout",
     "output_type": "stream",
     "text": [
      "Epoch 4/30 - Mean IoU: 0.5910\n",
      "Validation IoU improved from 0.5854 to 0.5910\n"
     ]
    },
    {
     "name": "stderr",
     "output_type": "stream",
     "text": [
      "Epoch 5/30:   0%|                                                                                                                                                         | 0/1750 [00:00<?, ?batch/s]/tmp/ipykernel_411/1864876890.py:29: DeprecationWarning: NEAREST is deprecated and will be removed in Pillow 10 (2023-07-01). Use Resampling.NEAREST or Dither.NONE instead.\n",
      "  mask = TF.functional.resize(img=mask, size=[360, 640], interpolation=Image.NEAREST)\n",
      "/tmp/ipykernel_411/1864876890.py:29: DeprecationWarning: NEAREST is deprecated and will be removed in Pillow 10 (2023-07-01). Use Resampling.NEAREST or Dither.NONE instead.\n",
      "  mask = TF.functional.resize(img=mask, size=[360, 640], interpolation=Image.NEAREST)\n",
      "/tmp/ipykernel_411/1864876890.py:29: DeprecationWarning: NEAREST is deprecated and will be removed in Pillow 10 (2023-07-01). Use Resampling.NEAREST or Dither.NONE instead.\n",
      "  mask = TF.functional.resize(img=mask, size=[360, 640], interpolation=Image.NEAREST)\n",
      "/tmp/ipykernel_411/1864876890.py:29: DeprecationWarning: NEAREST is deprecated and will be removed in Pillow 10 (2023-07-01). Use Resampling.NEAREST or Dither.NONE instead.\n",
      "  mask = TF.functional.resize(img=mask, size=[360, 640], interpolation=Image.NEAREST)\n",
      "/tmp/ipykernel_411/1864876890.py:29: DeprecationWarning: NEAREST is deprecated and will be removed in Pillow 10 (2023-07-01). Use Resampling.NEAREST or Dither.NONE instead.\n",
      "  mask = TF.functional.resize(img=mask, size=[360, 640], interpolation=Image.NEAREST)\n",
      "/tmp/ipykernel_411/1864876890.py:29: DeprecationWarning: NEAREST is deprecated and will be removed in Pillow 10 (2023-07-01). Use Resampling.NEAREST or Dither.NONE instead.\n",
      "  mask = TF.functional.resize(img=mask, size=[360, 640], interpolation=Image.NEAREST)\n",
      "Epoch 5/30: 100%|█████████████████████████████████████████████████████████████████████████████████████████████████████████████████████████████████| 1750/1750 [12:26<00:00,  2.34batch/s, loss=0.0431]\n",
      "Validation:   0%|                                                                                                                                                          | 0/250 [00:00<?, ?batch/s]/tmp/ipykernel_411/1864876890.py:29: DeprecationWarning: NEAREST is deprecated and will be removed in Pillow 10 (2023-07-01). Use Resampling.NEAREST or Dither.NONE instead.\n",
      "  mask = TF.functional.resize(img=mask, size=[360, 640], interpolation=Image.NEAREST)\n",
      "/tmp/ipykernel_411/1864876890.py:29: DeprecationWarning: NEAREST is deprecated and will be removed in Pillow 10 (2023-07-01). Use Resampling.NEAREST or Dither.NONE instead.\n",
      "  mask = TF.functional.resize(img=mask, size=[360, 640], interpolation=Image.NEAREST)\n",
      "/tmp/ipykernel_411/1864876890.py:29: DeprecationWarning: NEAREST is deprecated and will be removed in Pillow 10 (2023-07-01). Use Resampling.NEAREST or Dither.NONE instead.\n",
      "  mask = TF.functional.resize(img=mask, size=[360, 640], interpolation=Image.NEAREST)\n",
      "/tmp/ipykernel_411/1864876890.py:29: DeprecationWarning: NEAREST is deprecated and will be removed in Pillow 10 (2023-07-01). Use Resampling.NEAREST or Dither.NONE instead.\n",
      "  mask = TF.functional.resize(img=mask, size=[360, 640], interpolation=Image.NEAREST)\n",
      "/tmp/ipykernel_411/1864876890.py:29: DeprecationWarning: NEAREST is deprecated and will be removed in Pillow 10 (2023-07-01). Use Resampling.NEAREST or Dither.NONE instead.\n",
      "  mask = TF.functional.resize(img=mask, size=[360, 640], interpolation=Image.NEAREST)\n",
      "/tmp/ipykernel_411/1864876890.py:29: DeprecationWarning: NEAREST is deprecated and will be removed in Pillow 10 (2023-07-01). Use Resampling.NEAREST or Dither.NONE instead.\n",
      "  mask = TF.functional.resize(img=mask, size=[360, 640], interpolation=Image.NEAREST)\n",
      "Validation: 100%|████████████████████████████████████████████████████████████████████████████████████████████████████████████████████████████████| 250/250 [00:58<00:00,  4.30batch/s, mean_iou=0.592]\n"
     ]
    },
    {
     "name": "stdout",
     "output_type": "stream",
     "text": [
      "Epoch 5/30 - Mean IoU: 0.5959\n",
      "Validation IoU improved from 0.5910 to 0.5959\n"
     ]
    },
    {
     "name": "stderr",
     "output_type": "stream",
     "text": [
      "Epoch 6/30:   0%|                                                                                                                                                         | 0/1750 [00:00<?, ?batch/s]/tmp/ipykernel_411/1864876890.py:29: DeprecationWarning: NEAREST is deprecated and will be removed in Pillow 10 (2023-07-01). Use Resampling.NEAREST or Dither.NONE instead.\n",
      "  mask = TF.functional.resize(img=mask, size=[360, 640], interpolation=Image.NEAREST)\n",
      "/tmp/ipykernel_411/1864876890.py:29: DeprecationWarning: NEAREST is deprecated and will be removed in Pillow 10 (2023-07-01). Use Resampling.NEAREST or Dither.NONE instead.\n",
      "  mask = TF.functional.resize(img=mask, size=[360, 640], interpolation=Image.NEAREST)\n",
      "/tmp/ipykernel_411/1864876890.py:29: DeprecationWarning: NEAREST is deprecated and will be removed in Pillow 10 (2023-07-01). Use Resampling.NEAREST or Dither.NONE instead.\n",
      "  mask = TF.functional.resize(img=mask, size=[360, 640], interpolation=Image.NEAREST)\n",
      "/tmp/ipykernel_411/1864876890.py:29: DeprecationWarning: NEAREST is deprecated and will be removed in Pillow 10 (2023-07-01). Use Resampling.NEAREST or Dither.NONE instead.\n",
      "  mask = TF.functional.resize(img=mask, size=[360, 640], interpolation=Image.NEAREST)\n",
      "/tmp/ipykernel_411/1864876890.py:29: DeprecationWarning: NEAREST is deprecated and will be removed in Pillow 10 (2023-07-01). Use Resampling.NEAREST or Dither.NONE instead.\n",
      "  mask = TF.functional.resize(img=mask, size=[360, 640], interpolation=Image.NEAREST)\n",
      "/tmp/ipykernel_411/1864876890.py:29: DeprecationWarning: NEAREST is deprecated and will be removed in Pillow 10 (2023-07-01). Use Resampling.NEAREST or Dither.NONE instead.\n",
      "  mask = TF.functional.resize(img=mask, size=[360, 640], interpolation=Image.NEAREST)\n",
      "Epoch 6/30: 100%|█████████████████████████████████████████████████████████████████████████████████████████████████████████████████████████████████| 1750/1750 [12:25<00:00,  2.35batch/s, loss=0.0508]\n",
      "Validation:   0%|                                                                                                                                                          | 0/250 [00:00<?, ?batch/s]/tmp/ipykernel_411/1864876890.py:29: DeprecationWarning: NEAREST is deprecated and will be removed in Pillow 10 (2023-07-01). Use Resampling.NEAREST or Dither.NONE instead.\n",
      "  mask = TF.functional.resize(img=mask, size=[360, 640], interpolation=Image.NEAREST)\n",
      "/tmp/ipykernel_411/1864876890.py:29: DeprecationWarning: NEAREST is deprecated and will be removed in Pillow 10 (2023-07-01). Use Resampling.NEAREST or Dither.NONE instead.\n",
      "  mask = TF.functional.resize(img=mask, size=[360, 640], interpolation=Image.NEAREST)\n",
      "/tmp/ipykernel_411/1864876890.py:29: DeprecationWarning: NEAREST is deprecated and will be removed in Pillow 10 (2023-07-01). Use Resampling.NEAREST or Dither.NONE instead.\n",
      "  mask = TF.functional.resize(img=mask, size=[360, 640], interpolation=Image.NEAREST)\n",
      "/tmp/ipykernel_411/1864876890.py:29: DeprecationWarning: NEAREST is deprecated and will be removed in Pillow 10 (2023-07-01). Use Resampling.NEAREST or Dither.NONE instead.\n",
      "  mask = TF.functional.resize(img=mask, size=[360, 640], interpolation=Image.NEAREST)\n",
      "/tmp/ipykernel_411/1864876890.py:29: DeprecationWarning: NEAREST is deprecated and will be removed in Pillow 10 (2023-07-01). Use Resampling.NEAREST or Dither.NONE instead.\n",
      "  mask = TF.functional.resize(img=mask, size=[360, 640], interpolation=Image.NEAREST)\n",
      "/tmp/ipykernel_411/1864876890.py:29: DeprecationWarning: NEAREST is deprecated and will be removed in Pillow 10 (2023-07-01). Use Resampling.NEAREST or Dither.NONE instead.\n",
      "  mask = TF.functional.resize(img=mask, size=[360, 640], interpolation=Image.NEAREST)\n",
      "Validation: 100%|████████████████████████████████████████████████████████████████████████████████████████████████████████████████████████████████| 250/250 [00:58<00:00,  4.31batch/s, mean_iou=0.603]\n"
     ]
    },
    {
     "name": "stdout",
     "output_type": "stream",
     "text": [
      "Epoch 6/30 - Mean IoU: 0.5995\n",
      "Validation IoU improved from 0.5959 to 0.5995\n"
     ]
    },
    {
     "name": "stderr",
     "output_type": "stream",
     "text": [
      "Epoch 7/30:   0%|                                                                                                                                                         | 0/1750 [00:00<?, ?batch/s]/tmp/ipykernel_411/1864876890.py:29: DeprecationWarning: NEAREST is deprecated and will be removed in Pillow 10 (2023-07-01). Use Resampling.NEAREST or Dither.NONE instead.\n",
      "  mask = TF.functional.resize(img=mask, size=[360, 640], interpolation=Image.NEAREST)\n",
      "/tmp/ipykernel_411/1864876890.py:29: DeprecationWarning: NEAREST is deprecated and will be removed in Pillow 10 (2023-07-01). Use Resampling.NEAREST or Dither.NONE instead.\n",
      "  mask = TF.functional.resize(img=mask, size=[360, 640], interpolation=Image.NEAREST)\n",
      "/tmp/ipykernel_411/1864876890.py:29: DeprecationWarning: NEAREST is deprecated and will be removed in Pillow 10 (2023-07-01). Use Resampling.NEAREST or Dither.NONE instead.\n",
      "  mask = TF.functional.resize(img=mask, size=[360, 640], interpolation=Image.NEAREST)\n",
      "/tmp/ipykernel_411/1864876890.py:29: DeprecationWarning: NEAREST is deprecated and will be removed in Pillow 10 (2023-07-01). Use Resampling.NEAREST or Dither.NONE instead.\n",
      "  mask = TF.functional.resize(img=mask, size=[360, 640], interpolation=Image.NEAREST)\n",
      "/tmp/ipykernel_411/1864876890.py:29: DeprecationWarning: NEAREST is deprecated and will be removed in Pillow 10 (2023-07-01). Use Resampling.NEAREST or Dither.NONE instead.\n",
      "  mask = TF.functional.resize(img=mask, size=[360, 640], interpolation=Image.NEAREST)\n",
      "/tmp/ipykernel_411/1864876890.py:29: DeprecationWarning: NEAREST is deprecated and will be removed in Pillow 10 (2023-07-01). Use Resampling.NEAREST or Dither.NONE instead.\n",
      "  mask = TF.functional.resize(img=mask, size=[360, 640], interpolation=Image.NEAREST)\n",
      "Epoch 7/30: 100%|█████████████████████████████████████████████████████████████████████████████████████████████████████████████████████████████████| 1750/1750 [12:25<00:00,  2.35batch/s, loss=0.0403]\n",
      "Validation:   0%|                                                                                                                                                          | 0/250 [00:00<?, ?batch/s]/tmp/ipykernel_411/1864876890.py:29: DeprecationWarning: NEAREST is deprecated and will be removed in Pillow 10 (2023-07-01). Use Resampling.NEAREST or Dither.NONE instead.\n",
      "  mask = TF.functional.resize(img=mask, size=[360, 640], interpolation=Image.NEAREST)\n",
      "/tmp/ipykernel_411/1864876890.py:29: DeprecationWarning: NEAREST is deprecated and will be removed in Pillow 10 (2023-07-01). Use Resampling.NEAREST or Dither.NONE instead.\n",
      "  mask = TF.functional.resize(img=mask, size=[360, 640], interpolation=Image.NEAREST)\n",
      "/tmp/ipykernel_411/1864876890.py:29: DeprecationWarning: NEAREST is deprecated and will be removed in Pillow 10 (2023-07-01). Use Resampling.NEAREST or Dither.NONE instead.\n",
      "  mask = TF.functional.resize(img=mask, size=[360, 640], interpolation=Image.NEAREST)\n",
      "/tmp/ipykernel_411/1864876890.py:29: DeprecationWarning: NEAREST is deprecated and will be removed in Pillow 10 (2023-07-01). Use Resampling.NEAREST or Dither.NONE instead.\n",
      "  mask = TF.functional.resize(img=mask, size=[360, 640], interpolation=Image.NEAREST)\n",
      "/tmp/ipykernel_411/1864876890.py:29: DeprecationWarning: NEAREST is deprecated and will be removed in Pillow 10 (2023-07-01). Use Resampling.NEAREST or Dither.NONE instead.\n",
      "  mask = TF.functional.resize(img=mask, size=[360, 640], interpolation=Image.NEAREST)\n",
      "/tmp/ipykernel_411/1864876890.py:29: DeprecationWarning: NEAREST is deprecated and will be removed in Pillow 10 (2023-07-01). Use Resampling.NEAREST or Dither.NONE instead.\n",
      "  mask = TF.functional.resize(img=mask, size=[360, 640], interpolation=Image.NEAREST)\n",
      "Validation: 100%|████████████████████████████████████████████████████████████████████████████████████████████████████████████████████████████████| 250/250 [00:58<00:00,  4.29batch/s, mean_iou=0.594]\n"
     ]
    },
    {
     "name": "stdout",
     "output_type": "stream",
     "text": [
      "Epoch 7/30 - Mean IoU: 0.6010\n",
      "Validation IoU improved from 0.5995 to 0.6010\n"
     ]
    },
    {
     "name": "stderr",
     "output_type": "stream",
     "text": [
      "Epoch 8/30:   0%|                                                                                                                                                         | 0/1750 [00:00<?, ?batch/s]/tmp/ipykernel_411/1864876890.py:29: DeprecationWarning: NEAREST is deprecated and will be removed in Pillow 10 (2023-07-01). Use Resampling.NEAREST or Dither.NONE instead.\n",
      "  mask = TF.functional.resize(img=mask, size=[360, 640], interpolation=Image.NEAREST)\n",
      "/tmp/ipykernel_411/1864876890.py:29: DeprecationWarning: NEAREST is deprecated and will be removed in Pillow 10 (2023-07-01). Use Resampling.NEAREST or Dither.NONE instead.\n",
      "  mask = TF.functional.resize(img=mask, size=[360, 640], interpolation=Image.NEAREST)\n",
      "/tmp/ipykernel_411/1864876890.py:29: DeprecationWarning: NEAREST is deprecated and will be removed in Pillow 10 (2023-07-01). Use Resampling.NEAREST or Dither.NONE instead.\n",
      "  mask = TF.functional.resize(img=mask, size=[360, 640], interpolation=Image.NEAREST)\n",
      "/tmp/ipykernel_411/1864876890.py:29: DeprecationWarning: NEAREST is deprecated and will be removed in Pillow 10 (2023-07-01). Use Resampling.NEAREST or Dither.NONE instead.\n",
      "  mask = TF.functional.resize(img=mask, size=[360, 640], interpolation=Image.NEAREST)\n",
      "/tmp/ipykernel_411/1864876890.py:29: DeprecationWarning: NEAREST is deprecated and will be removed in Pillow 10 (2023-07-01). Use Resampling.NEAREST or Dither.NONE instead.\n",
      "  mask = TF.functional.resize(img=mask, size=[360, 640], interpolation=Image.NEAREST)\n",
      "/tmp/ipykernel_411/1864876890.py:29: DeprecationWarning: NEAREST is deprecated and will be removed in Pillow 10 (2023-07-01). Use Resampling.NEAREST or Dither.NONE instead.\n",
      "  mask = TF.functional.resize(img=mask, size=[360, 640], interpolation=Image.NEAREST)\n",
      "Epoch 8/30: 100%|█████████████████████████████████████████████████████████████████████████████████████████████████████████████████████████████████| 1750/1750 [12:24<00:00,  2.35batch/s, loss=0.0171]\n",
      "Validation:   0%|                                                                                                                                                          | 0/250 [00:00<?, ?batch/s]/tmp/ipykernel_411/1864876890.py:29: DeprecationWarning: NEAREST is deprecated and will be removed in Pillow 10 (2023-07-01). Use Resampling.NEAREST or Dither.NONE instead.\n",
      "  mask = TF.functional.resize(img=mask, size=[360, 640], interpolation=Image.NEAREST)\n",
      "/tmp/ipykernel_411/1864876890.py:29: DeprecationWarning: NEAREST is deprecated and will be removed in Pillow 10 (2023-07-01). Use Resampling.NEAREST or Dither.NONE instead.\n",
      "  mask = TF.functional.resize(img=mask, size=[360, 640], interpolation=Image.NEAREST)\n",
      "/tmp/ipykernel_411/1864876890.py:29: DeprecationWarning: NEAREST is deprecated and will be removed in Pillow 10 (2023-07-01). Use Resampling.NEAREST or Dither.NONE instead.\n",
      "  mask = TF.functional.resize(img=mask, size=[360, 640], interpolation=Image.NEAREST)\n",
      "/tmp/ipykernel_411/1864876890.py:29: DeprecationWarning: NEAREST is deprecated and will be removed in Pillow 10 (2023-07-01). Use Resampling.NEAREST or Dither.NONE instead.\n",
      "  mask = TF.functional.resize(img=mask, size=[360, 640], interpolation=Image.NEAREST)\n",
      "/tmp/ipykernel_411/1864876890.py:29: DeprecationWarning: NEAREST is deprecated and will be removed in Pillow 10 (2023-07-01). Use Resampling.NEAREST or Dither.NONE instead.\n",
      "  mask = TF.functional.resize(img=mask, size=[360, 640], interpolation=Image.NEAREST)\n",
      "/tmp/ipykernel_411/1864876890.py:29: DeprecationWarning: NEAREST is deprecated and will be removed in Pillow 10 (2023-07-01). Use Resampling.NEAREST or Dither.NONE instead.\n",
      "  mask = TF.functional.resize(img=mask, size=[360, 640], interpolation=Image.NEAREST)\n",
      "Validation: 100%|██████████████████████████████████████████████████████████████████████████████████████████████████████████████████████████████████| 250/250 [00:58<00:00,  4.25batch/s, mean_iou=0.6]\n"
     ]
    },
    {
     "name": "stdout",
     "output_type": "stream",
     "text": [
      "Epoch 8/30 - Mean IoU: 0.6008\n"
     ]
    },
    {
     "name": "stderr",
     "output_type": "stream",
     "text": [
      "Epoch 9/30:   0%|                                                                                                                                                         | 0/1750 [00:00<?, ?batch/s]/tmp/ipykernel_411/1864876890.py:29: DeprecationWarning: NEAREST is deprecated and will be removed in Pillow 10 (2023-07-01). Use Resampling.NEAREST or Dither.NONE instead.\n",
      "  mask = TF.functional.resize(img=mask, size=[360, 640], interpolation=Image.NEAREST)\n",
      "/tmp/ipykernel_411/1864876890.py:29: DeprecationWarning: NEAREST is deprecated and will be removed in Pillow 10 (2023-07-01). Use Resampling.NEAREST or Dither.NONE instead.\n",
      "  mask = TF.functional.resize(img=mask, size=[360, 640], interpolation=Image.NEAREST)\n",
      "/tmp/ipykernel_411/1864876890.py:29: DeprecationWarning: NEAREST is deprecated and will be removed in Pillow 10 (2023-07-01). Use Resampling.NEAREST or Dither.NONE instead.\n",
      "  mask = TF.functional.resize(img=mask, size=[360, 640], interpolation=Image.NEAREST)\n",
      "/tmp/ipykernel_411/1864876890.py:29: DeprecationWarning: NEAREST is deprecated and will be removed in Pillow 10 (2023-07-01). Use Resampling.NEAREST or Dither.NONE instead.\n",
      "  mask = TF.functional.resize(img=mask, size=[360, 640], interpolation=Image.NEAREST)\n",
      "/tmp/ipykernel_411/1864876890.py:29: DeprecationWarning: NEAREST is deprecated and will be removed in Pillow 10 (2023-07-01). Use Resampling.NEAREST or Dither.NONE instead.\n",
      "  mask = TF.functional.resize(img=mask, size=[360, 640], interpolation=Image.NEAREST)\n",
      "/tmp/ipykernel_411/1864876890.py:29: DeprecationWarning: NEAREST is deprecated and will be removed in Pillow 10 (2023-07-01). Use Resampling.NEAREST or Dither.NONE instead.\n",
      "  mask = TF.functional.resize(img=mask, size=[360, 640], interpolation=Image.NEAREST)\n",
      "Epoch 9/30: 100%|█████████████████████████████████████████████████████████████████████████████████████████████████████████████████████████████████| 1750/1750 [12:27<00:00,  2.34batch/s, loss=0.0204]\n",
      "Validation:   0%|                                                                                                                                                          | 0/250 [00:00<?, ?batch/s]/tmp/ipykernel_411/1864876890.py:29: DeprecationWarning: NEAREST is deprecated and will be removed in Pillow 10 (2023-07-01). Use Resampling.NEAREST or Dither.NONE instead.\n",
      "  mask = TF.functional.resize(img=mask, size=[360, 640], interpolation=Image.NEAREST)\n",
      "/tmp/ipykernel_411/1864876890.py:29: DeprecationWarning: NEAREST is deprecated and will be removed in Pillow 10 (2023-07-01). Use Resampling.NEAREST or Dither.NONE instead.\n",
      "  mask = TF.functional.resize(img=mask, size=[360, 640], interpolation=Image.NEAREST)\n",
      "/tmp/ipykernel_411/1864876890.py:29: DeprecationWarning: NEAREST is deprecated and will be removed in Pillow 10 (2023-07-01). Use Resampling.NEAREST or Dither.NONE instead.\n",
      "  mask = TF.functional.resize(img=mask, size=[360, 640], interpolation=Image.NEAREST)\n",
      "/tmp/ipykernel_411/1864876890.py:29: DeprecationWarning: NEAREST is deprecated and will be removed in Pillow 10 (2023-07-01). Use Resampling.NEAREST or Dither.NONE instead.\n",
      "  mask = TF.functional.resize(img=mask, size=[360, 640], interpolation=Image.NEAREST)\n",
      "/tmp/ipykernel_411/1864876890.py:29: DeprecationWarning: NEAREST is deprecated and will be removed in Pillow 10 (2023-07-01). Use Resampling.NEAREST or Dither.NONE instead.\n",
      "  mask = TF.functional.resize(img=mask, size=[360, 640], interpolation=Image.NEAREST)\n",
      "/tmp/ipykernel_411/1864876890.py:29: DeprecationWarning: NEAREST is deprecated and will be removed in Pillow 10 (2023-07-01). Use Resampling.NEAREST or Dither.NONE instead.\n",
      "  mask = TF.functional.resize(img=mask, size=[360, 640], interpolation=Image.NEAREST)\n",
      "Validation: 100%|████████████████████████████████████████████████████████████████████████████████████████████████████████████████████████████████| 250/250 [00:58<00:00,  4.24batch/s, mean_iou=0.597]\n"
     ]
    },
    {
     "name": "stdout",
     "output_type": "stream",
     "text": [
      "Epoch 9/30 - Mean IoU: 0.5993\n"
     ]
    },
    {
     "name": "stderr",
     "output_type": "stream",
     "text": [
      "Epoch 10/30:   0%|                                                                                                                                                        | 0/1750 [00:00<?, ?batch/s]/tmp/ipykernel_411/1864876890.py:29: DeprecationWarning: NEAREST is deprecated and will be removed in Pillow 10 (2023-07-01). Use Resampling.NEAREST or Dither.NONE instead.\n",
      "  mask = TF.functional.resize(img=mask, size=[360, 640], interpolation=Image.NEAREST)\n",
      "/tmp/ipykernel_411/1864876890.py:29: DeprecationWarning: NEAREST is deprecated and will be removed in Pillow 10 (2023-07-01). Use Resampling.NEAREST or Dither.NONE instead.\n",
      "  mask = TF.functional.resize(img=mask, size=[360, 640], interpolation=Image.NEAREST)\n",
      "/tmp/ipykernel_411/1864876890.py:29: DeprecationWarning: NEAREST is deprecated and will be removed in Pillow 10 (2023-07-01). Use Resampling.NEAREST or Dither.NONE instead.\n",
      "  mask = TF.functional.resize(img=mask, size=[360, 640], interpolation=Image.NEAREST)\n",
      "/tmp/ipykernel_411/1864876890.py:29: DeprecationWarning: NEAREST is deprecated and will be removed in Pillow 10 (2023-07-01). Use Resampling.NEAREST or Dither.NONE instead.\n",
      "  mask = TF.functional.resize(img=mask, size=[360, 640], interpolation=Image.NEAREST)\n",
      "/tmp/ipykernel_411/1864876890.py:29: DeprecationWarning: NEAREST is deprecated and will be removed in Pillow 10 (2023-07-01). Use Resampling.NEAREST or Dither.NONE instead.\n",
      "  mask = TF.functional.resize(img=mask, size=[360, 640], interpolation=Image.NEAREST)\n",
      "/tmp/ipykernel_411/1864876890.py:29: DeprecationWarning: NEAREST is deprecated and will be removed in Pillow 10 (2023-07-01). Use Resampling.NEAREST or Dither.NONE instead.\n",
      "  mask = TF.functional.resize(img=mask, size=[360, 640], interpolation=Image.NEAREST)\n",
      "Epoch 10/30: 100%|█████████████████████████████████████████████████████████████████████████████████████████████████████████████████████████████████| 1750/1750 [12:27<00:00,  2.34batch/s, loss=0.025]\n",
      "Validation:   0%|                                                                                                                                                          | 0/250 [00:00<?, ?batch/s]/tmp/ipykernel_411/1864876890.py:29: DeprecationWarning: NEAREST is deprecated and will be removed in Pillow 10 (2023-07-01). Use Resampling.NEAREST or Dither.NONE instead.\n",
      "  mask = TF.functional.resize(img=mask, size=[360, 640], interpolation=Image.NEAREST)\n",
      "/tmp/ipykernel_411/1864876890.py:29: DeprecationWarning: NEAREST is deprecated and will be removed in Pillow 10 (2023-07-01). Use Resampling.NEAREST or Dither.NONE instead.\n",
      "  mask = TF.functional.resize(img=mask, size=[360, 640], interpolation=Image.NEAREST)\n",
      "/tmp/ipykernel_411/1864876890.py:29: DeprecationWarning: NEAREST is deprecated and will be removed in Pillow 10 (2023-07-01). Use Resampling.NEAREST or Dither.NONE instead.\n",
      "  mask = TF.functional.resize(img=mask, size=[360, 640], interpolation=Image.NEAREST)\n",
      "/tmp/ipykernel_411/1864876890.py:29: DeprecationWarning: NEAREST is deprecated and will be removed in Pillow 10 (2023-07-01). Use Resampling.NEAREST or Dither.NONE instead.\n",
      "  mask = TF.functional.resize(img=mask, size=[360, 640], interpolation=Image.NEAREST)\n",
      "/tmp/ipykernel_411/1864876890.py:29: DeprecationWarning: NEAREST is deprecated and will be removed in Pillow 10 (2023-07-01). Use Resampling.NEAREST or Dither.NONE instead.\n",
      "  mask = TF.functional.resize(img=mask, size=[360, 640], interpolation=Image.NEAREST)\n",
      "/tmp/ipykernel_411/1864876890.py:29: DeprecationWarning: NEAREST is deprecated and will be removed in Pillow 10 (2023-07-01). Use Resampling.NEAREST or Dither.NONE instead.\n",
      "  mask = TF.functional.resize(img=mask, size=[360, 640], interpolation=Image.NEAREST)\n",
      "Validation: 100%|████████████████████████████████████████████████████████████████████████████████████████████████████████████████████████████████| 250/250 [00:58<00:00,  4.26batch/s, mean_iou=0.603]\n"
     ]
    },
    {
     "name": "stdout",
     "output_type": "stream",
     "text": [
      "Epoch 10/30 - Mean IoU: 0.6012\n",
      "Validation IoU improved from 0.6010 to 0.6012\n"
     ]
    },
    {
     "name": "stderr",
     "output_type": "stream",
     "text": [
      "Epoch 11/30:   0%|                                                                                                                                                        | 0/1750 [00:00<?, ?batch/s]/tmp/ipykernel_411/1864876890.py:29: DeprecationWarning: NEAREST is deprecated and will be removed in Pillow 10 (2023-07-01). Use Resampling.NEAREST or Dither.NONE instead.\n",
      "  mask = TF.functional.resize(img=mask, size=[360, 640], interpolation=Image.NEAREST)\n",
      "/tmp/ipykernel_411/1864876890.py:29: DeprecationWarning: NEAREST is deprecated and will be removed in Pillow 10 (2023-07-01). Use Resampling.NEAREST or Dither.NONE instead.\n",
      "  mask = TF.functional.resize(img=mask, size=[360, 640], interpolation=Image.NEAREST)\n",
      "/tmp/ipykernel_411/1864876890.py:29: DeprecationWarning: NEAREST is deprecated and will be removed in Pillow 10 (2023-07-01). Use Resampling.NEAREST or Dither.NONE instead.\n",
      "  mask = TF.functional.resize(img=mask, size=[360, 640], interpolation=Image.NEAREST)\n",
      "/tmp/ipykernel_411/1864876890.py:29: DeprecationWarning: NEAREST is deprecated and will be removed in Pillow 10 (2023-07-01). Use Resampling.NEAREST or Dither.NONE instead.\n",
      "  mask = TF.functional.resize(img=mask, size=[360, 640], interpolation=Image.NEAREST)\n",
      "/tmp/ipykernel_411/1864876890.py:29: DeprecationWarning: NEAREST is deprecated and will be removed in Pillow 10 (2023-07-01). Use Resampling.NEAREST or Dither.NONE instead.\n",
      "  mask = TF.functional.resize(img=mask, size=[360, 640], interpolation=Image.NEAREST)\n",
      "/tmp/ipykernel_411/1864876890.py:29: DeprecationWarning: NEAREST is deprecated and will be removed in Pillow 10 (2023-07-01). Use Resampling.NEAREST or Dither.NONE instead.\n",
      "  mask = TF.functional.resize(img=mask, size=[360, 640], interpolation=Image.NEAREST)\n",
      "Epoch 11/30: 100%|████████████████████████████████████████████████████████████████████████████████████████████████████████████████████████████████| 1750/1750 [12:25<00:00,  2.35batch/s, loss=0.0259]\n",
      "Validation:   0%|                                                                                                                                                          | 0/250 [00:00<?, ?batch/s]/tmp/ipykernel_411/1864876890.py:29: DeprecationWarning: NEAREST is deprecated and will be removed in Pillow 10 (2023-07-01). Use Resampling.NEAREST or Dither.NONE instead.\n",
      "  mask = TF.functional.resize(img=mask, size=[360, 640], interpolation=Image.NEAREST)\n",
      "/tmp/ipykernel_411/1864876890.py:29: DeprecationWarning: NEAREST is deprecated and will be removed in Pillow 10 (2023-07-01). Use Resampling.NEAREST or Dither.NONE instead.\n",
      "  mask = TF.functional.resize(img=mask, size=[360, 640], interpolation=Image.NEAREST)\n",
      "/tmp/ipykernel_411/1864876890.py:29: DeprecationWarning: NEAREST is deprecated and will be removed in Pillow 10 (2023-07-01). Use Resampling.NEAREST or Dither.NONE instead.\n",
      "  mask = TF.functional.resize(img=mask, size=[360, 640], interpolation=Image.NEAREST)\n",
      "/tmp/ipykernel_411/1864876890.py:29: DeprecationWarning: NEAREST is deprecated and will be removed in Pillow 10 (2023-07-01). Use Resampling.NEAREST or Dither.NONE instead.\n",
      "  mask = TF.functional.resize(img=mask, size=[360, 640], interpolation=Image.NEAREST)\n",
      "/tmp/ipykernel_411/1864876890.py:29: DeprecationWarning: NEAREST is deprecated and will be removed in Pillow 10 (2023-07-01). Use Resampling.NEAREST or Dither.NONE instead.\n",
      "  mask = TF.functional.resize(img=mask, size=[360, 640], interpolation=Image.NEAREST)\n",
      "/tmp/ipykernel_411/1864876890.py:29: DeprecationWarning: NEAREST is deprecated and will be removed in Pillow 10 (2023-07-01). Use Resampling.NEAREST or Dither.NONE instead.\n",
      "  mask = TF.functional.resize(img=mask, size=[360, 640], interpolation=Image.NEAREST)\n",
      "Validation: 100%|████████████████████████████████████████████████████████████████████████████████████████████████████████████████████████████████| 250/250 [00:58<00:00,  4.27batch/s, mean_iou=0.596]\n"
     ]
    },
    {
     "name": "stdout",
     "output_type": "stream",
     "text": [
      "Epoch 11/30 - Mean IoU: 0.5985\n"
     ]
    },
    {
     "name": "stderr",
     "output_type": "stream",
     "text": [
      "Epoch 12/30:   0%|                                                                                                                                                        | 0/1750 [00:00<?, ?batch/s]/tmp/ipykernel_411/1864876890.py:29: DeprecationWarning: NEAREST is deprecated and will be removed in Pillow 10 (2023-07-01). Use Resampling.NEAREST or Dither.NONE instead.\n",
      "  mask = TF.functional.resize(img=mask, size=[360, 640], interpolation=Image.NEAREST)\n",
      "/tmp/ipykernel_411/1864876890.py:29: DeprecationWarning: NEAREST is deprecated and will be removed in Pillow 10 (2023-07-01). Use Resampling.NEAREST or Dither.NONE instead.\n",
      "  mask = TF.functional.resize(img=mask, size=[360, 640], interpolation=Image.NEAREST)\n",
      "/tmp/ipykernel_411/1864876890.py:29: DeprecationWarning: NEAREST is deprecated and will be removed in Pillow 10 (2023-07-01). Use Resampling.NEAREST or Dither.NONE instead.\n",
      "  mask = TF.functional.resize(img=mask, size=[360, 640], interpolation=Image.NEAREST)\n",
      "/tmp/ipykernel_411/1864876890.py:29: DeprecationWarning: NEAREST is deprecated and will be removed in Pillow 10 (2023-07-01). Use Resampling.NEAREST or Dither.NONE instead.\n",
      "  mask = TF.functional.resize(img=mask, size=[360, 640], interpolation=Image.NEAREST)\n",
      "/tmp/ipykernel_411/1864876890.py:29: DeprecationWarning: NEAREST is deprecated and will be removed in Pillow 10 (2023-07-01). Use Resampling.NEAREST or Dither.NONE instead.\n",
      "  mask = TF.functional.resize(img=mask, size=[360, 640], interpolation=Image.NEAREST)\n",
      "/tmp/ipykernel_411/1864876890.py:29: DeprecationWarning: NEAREST is deprecated and will be removed in Pillow 10 (2023-07-01). Use Resampling.NEAREST or Dither.NONE instead.\n",
      "  mask = TF.functional.resize(img=mask, size=[360, 640], interpolation=Image.NEAREST)\n",
      "Epoch 12/30: 100%|████████████████████████████████████████████████████████████████████████████████████████████████████████████████████████████████| 1750/1750 [12:27<00:00,  2.34batch/s, loss=0.0175]\n",
      "Validation:   0%|                                                                                                                                                          | 0/250 [00:00<?, ?batch/s]/tmp/ipykernel_411/1864876890.py:29: DeprecationWarning: NEAREST is deprecated and will be removed in Pillow 10 (2023-07-01). Use Resampling.NEAREST or Dither.NONE instead.\n",
      "  mask = TF.functional.resize(img=mask, size=[360, 640], interpolation=Image.NEAREST)\n",
      "/tmp/ipykernel_411/1864876890.py:29: DeprecationWarning: NEAREST is deprecated and will be removed in Pillow 10 (2023-07-01). Use Resampling.NEAREST or Dither.NONE instead.\n",
      "  mask = TF.functional.resize(img=mask, size=[360, 640], interpolation=Image.NEAREST)\n",
      "/tmp/ipykernel_411/1864876890.py:29: DeprecationWarning: NEAREST is deprecated and will be removed in Pillow 10 (2023-07-01). Use Resampling.NEAREST or Dither.NONE instead.\n",
      "  mask = TF.functional.resize(img=mask, size=[360, 640], interpolation=Image.NEAREST)\n",
      "/tmp/ipykernel_411/1864876890.py:29: DeprecationWarning: NEAREST is deprecated and will be removed in Pillow 10 (2023-07-01). Use Resampling.NEAREST or Dither.NONE instead.\n",
      "  mask = TF.functional.resize(img=mask, size=[360, 640], interpolation=Image.NEAREST)\n",
      "/tmp/ipykernel_411/1864876890.py:29: DeprecationWarning: NEAREST is deprecated and will be removed in Pillow 10 (2023-07-01). Use Resampling.NEAREST or Dither.NONE instead.\n",
      "  mask = TF.functional.resize(img=mask, size=[360, 640], interpolation=Image.NEAREST)\n",
      "/tmp/ipykernel_411/1864876890.py:29: DeprecationWarning: NEAREST is deprecated and will be removed in Pillow 10 (2023-07-01). Use Resampling.NEAREST or Dither.NONE instead.\n",
      "  mask = TF.functional.resize(img=mask, size=[360, 640], interpolation=Image.NEAREST)\n",
      "Validation: 100%|████████████████████████████████████████████████████████████████████████████████████████████████████████████████████████████████| 250/250 [00:58<00:00,  4.29batch/s, mean_iou=0.598]\n"
     ]
    },
    {
     "name": "stdout",
     "output_type": "stream",
     "text": [
      "Epoch 12/30 - Mean IoU: 0.5988\n"
     ]
    },
    {
     "name": "stderr",
     "output_type": "stream",
     "text": [
      "Epoch 13/30:   0%|                                                                                                                                                        | 0/1750 [00:00<?, ?batch/s]/tmp/ipykernel_411/1864876890.py:29: DeprecationWarning: NEAREST is deprecated and will be removed in Pillow 10 (2023-07-01). Use Resampling.NEAREST or Dither.NONE instead.\n",
      "  mask = TF.functional.resize(img=mask, size=[360, 640], interpolation=Image.NEAREST)\n",
      "/tmp/ipykernel_411/1864876890.py:29: DeprecationWarning: NEAREST is deprecated and will be removed in Pillow 10 (2023-07-01). Use Resampling.NEAREST or Dither.NONE instead.\n",
      "  mask = TF.functional.resize(img=mask, size=[360, 640], interpolation=Image.NEAREST)\n",
      "/tmp/ipykernel_411/1864876890.py:29: DeprecationWarning: NEAREST is deprecated and will be removed in Pillow 10 (2023-07-01). Use Resampling.NEAREST or Dither.NONE instead.\n",
      "  mask = TF.functional.resize(img=mask, size=[360, 640], interpolation=Image.NEAREST)\n",
      "/tmp/ipykernel_411/1864876890.py:29: DeprecationWarning: NEAREST is deprecated and will be removed in Pillow 10 (2023-07-01). Use Resampling.NEAREST or Dither.NONE instead.\n",
      "  mask = TF.functional.resize(img=mask, size=[360, 640], interpolation=Image.NEAREST)\n",
      "/tmp/ipykernel_411/1864876890.py:29: DeprecationWarning: NEAREST is deprecated and will be removed in Pillow 10 (2023-07-01). Use Resampling.NEAREST or Dither.NONE instead.\n",
      "  mask = TF.functional.resize(img=mask, size=[360, 640], interpolation=Image.NEAREST)\n",
      "/tmp/ipykernel_411/1864876890.py:29: DeprecationWarning: NEAREST is deprecated and will be removed in Pillow 10 (2023-07-01). Use Resampling.NEAREST or Dither.NONE instead.\n",
      "  mask = TF.functional.resize(img=mask, size=[360, 640], interpolation=Image.NEAREST)\n",
      "Epoch 13/30: 100%|████████████████████████████████████████████████████████████████████████████████████████████████████████████████████████████████| 1750/1750 [12:25<00:00,  2.35batch/s, loss=0.0211]\n",
      "Validation:   0%|                                                                                                                                                          | 0/250 [00:00<?, ?batch/s]/tmp/ipykernel_411/1864876890.py:29: DeprecationWarning: NEAREST is deprecated and will be removed in Pillow 10 (2023-07-01). Use Resampling.NEAREST or Dither.NONE instead.\n",
      "  mask = TF.functional.resize(img=mask, size=[360, 640], interpolation=Image.NEAREST)\n",
      "/tmp/ipykernel_411/1864876890.py:29: DeprecationWarning: NEAREST is deprecated and will be removed in Pillow 10 (2023-07-01). Use Resampling.NEAREST or Dither.NONE instead.\n",
      "  mask = TF.functional.resize(img=mask, size=[360, 640], interpolation=Image.NEAREST)\n",
      "/tmp/ipykernel_411/1864876890.py:29: DeprecationWarning: NEAREST is deprecated and will be removed in Pillow 10 (2023-07-01). Use Resampling.NEAREST or Dither.NONE instead.\n",
      "  mask = TF.functional.resize(img=mask, size=[360, 640], interpolation=Image.NEAREST)\n",
      "/tmp/ipykernel_411/1864876890.py:29: DeprecationWarning: NEAREST is deprecated and will be removed in Pillow 10 (2023-07-01). Use Resampling.NEAREST or Dither.NONE instead.\n",
      "  mask = TF.functional.resize(img=mask, size=[360, 640], interpolation=Image.NEAREST)\n",
      "/tmp/ipykernel_411/1864876890.py:29: DeprecationWarning: NEAREST is deprecated and will be removed in Pillow 10 (2023-07-01). Use Resampling.NEAREST or Dither.NONE instead.\n",
      "  mask = TF.functional.resize(img=mask, size=[360, 640], interpolation=Image.NEAREST)\n",
      "/tmp/ipykernel_411/1864876890.py:29: DeprecationWarning: NEAREST is deprecated and will be removed in Pillow 10 (2023-07-01). Use Resampling.NEAREST or Dither.NONE instead.\n",
      "  mask = TF.functional.resize(img=mask, size=[360, 640], interpolation=Image.NEAREST)\n",
      "Validation: 100%|████████████████████████████████████████████████████████████████████████████████████████████████████████████████████████████████| 250/250 [00:58<00:00,  4.29batch/s, mean_iou=0.593]\n"
     ]
    },
    {
     "name": "stdout",
     "output_type": "stream",
     "text": [
      "Epoch 13/30 - Mean IoU: 0.6009\n"
     ]
    },
    {
     "name": "stderr",
     "output_type": "stream",
     "text": [
      "Epoch 14/30:   0%|                                                                                                                                                        | 0/1750 [00:00<?, ?batch/s]/tmp/ipykernel_411/1864876890.py:29: DeprecationWarning: NEAREST is deprecated and will be removed in Pillow 10 (2023-07-01). Use Resampling.NEAREST or Dither.NONE instead.\n",
      "  mask = TF.functional.resize(img=mask, size=[360, 640], interpolation=Image.NEAREST)\n",
      "/tmp/ipykernel_411/1864876890.py:29: DeprecationWarning: NEAREST is deprecated and will be removed in Pillow 10 (2023-07-01). Use Resampling.NEAREST or Dither.NONE instead.\n",
      "  mask = TF.functional.resize(img=mask, size=[360, 640], interpolation=Image.NEAREST)\n",
      "/tmp/ipykernel_411/1864876890.py:29: DeprecationWarning: NEAREST is deprecated and will be removed in Pillow 10 (2023-07-01). Use Resampling.NEAREST or Dither.NONE instead.\n",
      "  mask = TF.functional.resize(img=mask, size=[360, 640], interpolation=Image.NEAREST)\n",
      "/tmp/ipykernel_411/1864876890.py:29: DeprecationWarning: NEAREST is deprecated and will be removed in Pillow 10 (2023-07-01). Use Resampling.NEAREST or Dither.NONE instead.\n",
      "  mask = TF.functional.resize(img=mask, size=[360, 640], interpolation=Image.NEAREST)\n",
      "/tmp/ipykernel_411/1864876890.py:29: DeprecationWarning: NEAREST is deprecated and will be removed in Pillow 10 (2023-07-01). Use Resampling.NEAREST or Dither.NONE instead.\n",
      "  mask = TF.functional.resize(img=mask, size=[360, 640], interpolation=Image.NEAREST)\n",
      "/tmp/ipykernel_411/1864876890.py:29: DeprecationWarning: NEAREST is deprecated and will be removed in Pillow 10 (2023-07-01). Use Resampling.NEAREST or Dither.NONE instead.\n",
      "  mask = TF.functional.resize(img=mask, size=[360, 640], interpolation=Image.NEAREST)\n",
      "Epoch 14/30: 100%|████████████████████████████████████████████████████████████████████████████████████████████████████████████████████████████████| 1750/1750 [12:26<00:00,  2.35batch/s, loss=0.0197]\n",
      "Validation:   0%|                                                                                                                                                          | 0/250 [00:00<?, ?batch/s]/tmp/ipykernel_411/1864876890.py:29: DeprecationWarning: NEAREST is deprecated and will be removed in Pillow 10 (2023-07-01). Use Resampling.NEAREST or Dither.NONE instead.\n",
      "  mask = TF.functional.resize(img=mask, size=[360, 640], interpolation=Image.NEAREST)\n",
      "/tmp/ipykernel_411/1864876890.py:29: DeprecationWarning: NEAREST is deprecated and will be removed in Pillow 10 (2023-07-01). Use Resampling.NEAREST or Dither.NONE instead.\n",
      "  mask = TF.functional.resize(img=mask, size=[360, 640], interpolation=Image.NEAREST)\n",
      "/tmp/ipykernel_411/1864876890.py:29: DeprecationWarning: NEAREST is deprecated and will be removed in Pillow 10 (2023-07-01). Use Resampling.NEAREST or Dither.NONE instead.\n",
      "  mask = TF.functional.resize(img=mask, size=[360, 640], interpolation=Image.NEAREST)\n",
      "/tmp/ipykernel_411/1864876890.py:29: DeprecationWarning: NEAREST is deprecated and will be removed in Pillow 10 (2023-07-01). Use Resampling.NEAREST or Dither.NONE instead.\n",
      "  mask = TF.functional.resize(img=mask, size=[360, 640], interpolation=Image.NEAREST)\n",
      "/tmp/ipykernel_411/1864876890.py:29: DeprecationWarning: NEAREST is deprecated and will be removed in Pillow 10 (2023-07-01). Use Resampling.NEAREST or Dither.NONE instead.\n",
      "  mask = TF.functional.resize(img=mask, size=[360, 640], interpolation=Image.NEAREST)\n",
      "/tmp/ipykernel_411/1864876890.py:29: DeprecationWarning: NEAREST is deprecated and will be removed in Pillow 10 (2023-07-01). Use Resampling.NEAREST or Dither.NONE instead.\n",
      "  mask = TF.functional.resize(img=mask, size=[360, 640], interpolation=Image.NEAREST)\n",
      "Validation: 100%|████████████████████████████████████████████████████████████████████████████████████████████████████████████████████████████████| 250/250 [00:58<00:00,  4.29batch/s, mean_iou=0.594]\n"
     ]
    },
    {
     "name": "stdout",
     "output_type": "stream",
     "text": [
      "Epoch 14/30 - Mean IoU: 0.5978\n"
     ]
    },
    {
     "name": "stderr",
     "output_type": "stream",
     "text": [
      "Epoch 15/30:   0%|                                                                                                                                                        | 0/1750 [00:00<?, ?batch/s]/tmp/ipykernel_411/1864876890.py:29: DeprecationWarning: NEAREST is deprecated and will be removed in Pillow 10 (2023-07-01). Use Resampling.NEAREST or Dither.NONE instead.\n",
      "  mask = TF.functional.resize(img=mask, size=[360, 640], interpolation=Image.NEAREST)\n",
      "/tmp/ipykernel_411/1864876890.py:29: DeprecationWarning: NEAREST is deprecated and will be removed in Pillow 10 (2023-07-01). Use Resampling.NEAREST or Dither.NONE instead.\n",
      "  mask = TF.functional.resize(img=mask, size=[360, 640], interpolation=Image.NEAREST)\n",
      "/tmp/ipykernel_411/1864876890.py:29: DeprecationWarning: NEAREST is deprecated and will be removed in Pillow 10 (2023-07-01). Use Resampling.NEAREST or Dither.NONE instead.\n",
      "  mask = TF.functional.resize(img=mask, size=[360, 640], interpolation=Image.NEAREST)\n",
      "/tmp/ipykernel_411/1864876890.py:29: DeprecationWarning: NEAREST is deprecated and will be removed in Pillow 10 (2023-07-01). Use Resampling.NEAREST or Dither.NONE instead.\n",
      "  mask = TF.functional.resize(img=mask, size=[360, 640], interpolation=Image.NEAREST)\n",
      "/tmp/ipykernel_411/1864876890.py:29: DeprecationWarning: NEAREST is deprecated and will be removed in Pillow 10 (2023-07-01). Use Resampling.NEAREST or Dither.NONE instead.\n",
      "  mask = TF.functional.resize(img=mask, size=[360, 640], interpolation=Image.NEAREST)\n",
      "/tmp/ipykernel_411/1864876890.py:29: DeprecationWarning: NEAREST is deprecated and will be removed in Pillow 10 (2023-07-01). Use Resampling.NEAREST or Dither.NONE instead.\n",
      "  mask = TF.functional.resize(img=mask, size=[360, 640], interpolation=Image.NEAREST)\n",
      "Epoch 15/30: 100%|████████████████████████████████████████████████████████████████████████████████████████████████████████████████████████████████| 1750/1750 [12:22<00:00,  2.36batch/s, loss=0.0265]\n",
      "Validation:   0%|                                                                                                                                                          | 0/250 [00:00<?, ?batch/s]/tmp/ipykernel_411/1864876890.py:29: DeprecationWarning: NEAREST is deprecated and will be removed in Pillow 10 (2023-07-01). Use Resampling.NEAREST or Dither.NONE instead.\n",
      "  mask = TF.functional.resize(img=mask, size=[360, 640], interpolation=Image.NEAREST)\n",
      "/tmp/ipykernel_411/1864876890.py:29: DeprecationWarning: NEAREST is deprecated and will be removed in Pillow 10 (2023-07-01). Use Resampling.NEAREST or Dither.NONE instead.\n",
      "  mask = TF.functional.resize(img=mask, size=[360, 640], interpolation=Image.NEAREST)\n",
      "/tmp/ipykernel_411/1864876890.py:29: DeprecationWarning: NEAREST is deprecated and will be removed in Pillow 10 (2023-07-01). Use Resampling.NEAREST or Dither.NONE instead.\n",
      "  mask = TF.functional.resize(img=mask, size=[360, 640], interpolation=Image.NEAREST)\n",
      "/tmp/ipykernel_411/1864876890.py:29: DeprecationWarning: NEAREST is deprecated and will be removed in Pillow 10 (2023-07-01). Use Resampling.NEAREST or Dither.NONE instead.\n",
      "  mask = TF.functional.resize(img=mask, size=[360, 640], interpolation=Image.NEAREST)\n",
      "/tmp/ipykernel_411/1864876890.py:29: DeprecationWarning: NEAREST is deprecated and will be removed in Pillow 10 (2023-07-01). Use Resampling.NEAREST or Dither.NONE instead.\n",
      "  mask = TF.functional.resize(img=mask, size=[360, 640], interpolation=Image.NEAREST)\n",
      "/tmp/ipykernel_411/1864876890.py:29: DeprecationWarning: NEAREST is deprecated and will be removed in Pillow 10 (2023-07-01). Use Resampling.NEAREST or Dither.NONE instead.\n",
      "  mask = TF.functional.resize(img=mask, size=[360, 640], interpolation=Image.NEAREST)\n",
      "Validation: 100%|████████████████████████████████████████████████████████████████████████████████████████████████████████████████████████████████| 250/250 [00:57<00:00,  4.32batch/s, mean_iou=0.592]\n"
     ]
    },
    {
     "name": "stdout",
     "output_type": "stream",
     "text": [
      "Epoch 15/30 - Mean IoU: 0.5998\n"
     ]
    },
    {
     "name": "stderr",
     "output_type": "stream",
     "text": [
      "Epoch 16/30:   0%|                                                                                                                                                        | 0/1750 [00:00<?, ?batch/s]/tmp/ipykernel_411/1864876890.py:29: DeprecationWarning: NEAREST is deprecated and will be removed in Pillow 10 (2023-07-01). Use Resampling.NEAREST or Dither.NONE instead.\n",
      "  mask = TF.functional.resize(img=mask, size=[360, 640], interpolation=Image.NEAREST)\n",
      "/tmp/ipykernel_411/1864876890.py:29: DeprecationWarning: NEAREST is deprecated and will be removed in Pillow 10 (2023-07-01). Use Resampling.NEAREST or Dither.NONE instead.\n",
      "  mask = TF.functional.resize(img=mask, size=[360, 640], interpolation=Image.NEAREST)\n",
      "/tmp/ipykernel_411/1864876890.py:29: DeprecationWarning: NEAREST is deprecated and will be removed in Pillow 10 (2023-07-01). Use Resampling.NEAREST or Dither.NONE instead.\n",
      "  mask = TF.functional.resize(img=mask, size=[360, 640], interpolation=Image.NEAREST)\n",
      "/tmp/ipykernel_411/1864876890.py:29: DeprecationWarning: NEAREST is deprecated and will be removed in Pillow 10 (2023-07-01). Use Resampling.NEAREST or Dither.NONE instead.\n",
      "  mask = TF.functional.resize(img=mask, size=[360, 640], interpolation=Image.NEAREST)\n",
      "/tmp/ipykernel_411/1864876890.py:29: DeprecationWarning: NEAREST is deprecated and will be removed in Pillow 10 (2023-07-01). Use Resampling.NEAREST or Dither.NONE instead.\n",
      "  mask = TF.functional.resize(img=mask, size=[360, 640], interpolation=Image.NEAREST)\n",
      "/tmp/ipykernel_411/1864876890.py:29: DeprecationWarning: NEAREST is deprecated and will be removed in Pillow 10 (2023-07-01). Use Resampling.NEAREST or Dither.NONE instead.\n",
      "  mask = TF.functional.resize(img=mask, size=[360, 640], interpolation=Image.NEAREST)\n",
      "Epoch 16/30: 100%|████████████████████████████████████████████████████████████████████████████████████████████████████████████████████████████████| 1750/1750 [12:22<00:00,  2.36batch/s, loss=0.0137]\n",
      "Validation:   0%|                                                                                                                                                          | 0/250 [00:00<?, ?batch/s]/tmp/ipykernel_411/1864876890.py:29: DeprecationWarning: NEAREST is deprecated and will be removed in Pillow 10 (2023-07-01). Use Resampling.NEAREST or Dither.NONE instead.\n",
      "  mask = TF.functional.resize(img=mask, size=[360, 640], interpolation=Image.NEAREST)\n",
      "/tmp/ipykernel_411/1864876890.py:29: DeprecationWarning: NEAREST is deprecated and will be removed in Pillow 10 (2023-07-01). Use Resampling.NEAREST or Dither.NONE instead.\n",
      "  mask = TF.functional.resize(img=mask, size=[360, 640], interpolation=Image.NEAREST)\n",
      "/tmp/ipykernel_411/1864876890.py:29: DeprecationWarning: NEAREST is deprecated and will be removed in Pillow 10 (2023-07-01). Use Resampling.NEAREST or Dither.NONE instead.\n",
      "  mask = TF.functional.resize(img=mask, size=[360, 640], interpolation=Image.NEAREST)\n",
      "/tmp/ipykernel_411/1864876890.py:29: DeprecationWarning: NEAREST is deprecated and will be removed in Pillow 10 (2023-07-01). Use Resampling.NEAREST or Dither.NONE instead.\n",
      "  mask = TF.functional.resize(img=mask, size=[360, 640], interpolation=Image.NEAREST)\n",
      "/tmp/ipykernel_411/1864876890.py:29: DeprecationWarning: NEAREST is deprecated and will be removed in Pillow 10 (2023-07-01). Use Resampling.NEAREST or Dither.NONE instead.\n",
      "  mask = TF.functional.resize(img=mask, size=[360, 640], interpolation=Image.NEAREST)\n",
      "/tmp/ipykernel_411/1864876890.py:29: DeprecationWarning: NEAREST is deprecated and will be removed in Pillow 10 (2023-07-01). Use Resampling.NEAREST or Dither.NONE instead.\n",
      "  mask = TF.functional.resize(img=mask, size=[360, 640], interpolation=Image.NEAREST)\n",
      "Validation: 100%|████████████████████████████████████████████████████████████████████████████████████████████████████████████████████████████████| 250/250 [00:57<00:00,  4.32batch/s, mean_iou=0.591]\n"
     ]
    },
    {
     "name": "stdout",
     "output_type": "stream",
     "text": [
      "Epoch 16/30 - Mean IoU: 0.5983\n"
     ]
    },
    {
     "name": "stderr",
     "output_type": "stream",
     "text": [
      "Epoch 17/30:   0%|                                                                                                                                                        | 0/1750 [00:00<?, ?batch/s]/tmp/ipykernel_411/1864876890.py:29: DeprecationWarning: NEAREST is deprecated and will be removed in Pillow 10 (2023-07-01). Use Resampling.NEAREST or Dither.NONE instead.\n",
      "  mask = TF.functional.resize(img=mask, size=[360, 640], interpolation=Image.NEAREST)\n",
      "/tmp/ipykernel_411/1864876890.py:29: DeprecationWarning: NEAREST is deprecated and will be removed in Pillow 10 (2023-07-01). Use Resampling.NEAREST or Dither.NONE instead.\n",
      "  mask = TF.functional.resize(img=mask, size=[360, 640], interpolation=Image.NEAREST)\n",
      "/tmp/ipykernel_411/1864876890.py:29: DeprecationWarning: NEAREST is deprecated and will be removed in Pillow 10 (2023-07-01). Use Resampling.NEAREST or Dither.NONE instead.\n",
      "  mask = TF.functional.resize(img=mask, size=[360, 640], interpolation=Image.NEAREST)\n",
      "/tmp/ipykernel_411/1864876890.py:29: DeprecationWarning: NEAREST is deprecated and will be removed in Pillow 10 (2023-07-01). Use Resampling.NEAREST or Dither.NONE instead.\n",
      "  mask = TF.functional.resize(img=mask, size=[360, 640], interpolation=Image.NEAREST)\n",
      "/tmp/ipykernel_411/1864876890.py:29: DeprecationWarning: NEAREST is deprecated and will be removed in Pillow 10 (2023-07-01). Use Resampling.NEAREST or Dither.NONE instead.\n",
      "  mask = TF.functional.resize(img=mask, size=[360, 640], interpolation=Image.NEAREST)\n",
      "/tmp/ipykernel_411/1864876890.py:29: DeprecationWarning: NEAREST is deprecated and will be removed in Pillow 10 (2023-07-01). Use Resampling.NEAREST or Dither.NONE instead.\n",
      "  mask = TF.functional.resize(img=mask, size=[360, 640], interpolation=Image.NEAREST)\n",
      "Epoch 17/30: 100%|████████████████████████████████████████████████████████████████████████████████████████████████████████████████████████████████| 1750/1750 [12:22<00:00,  2.36batch/s, loss=0.0142]\n",
      "Validation:   0%|                                                                                                                                                          | 0/250 [00:00<?, ?batch/s]/tmp/ipykernel_411/1864876890.py:29: DeprecationWarning: NEAREST is deprecated and will be removed in Pillow 10 (2023-07-01). Use Resampling.NEAREST or Dither.NONE instead.\n",
      "  mask = TF.functional.resize(img=mask, size=[360, 640], interpolation=Image.NEAREST)\n",
      "/tmp/ipykernel_411/1864876890.py:29: DeprecationWarning: NEAREST is deprecated and will be removed in Pillow 10 (2023-07-01). Use Resampling.NEAREST or Dither.NONE instead.\n",
      "  mask = TF.functional.resize(img=mask, size=[360, 640], interpolation=Image.NEAREST)\n",
      "/tmp/ipykernel_411/1864876890.py:29: DeprecationWarning: NEAREST is deprecated and will be removed in Pillow 10 (2023-07-01). Use Resampling.NEAREST or Dither.NONE instead.\n",
      "  mask = TF.functional.resize(img=mask, size=[360, 640], interpolation=Image.NEAREST)\n",
      "/tmp/ipykernel_411/1864876890.py:29: DeprecationWarning: NEAREST is deprecated and will be removed in Pillow 10 (2023-07-01). Use Resampling.NEAREST or Dither.NONE instead.\n",
      "  mask = TF.functional.resize(img=mask, size=[360, 640], interpolation=Image.NEAREST)\n",
      "/tmp/ipykernel_411/1864876890.py:29: DeprecationWarning: NEAREST is deprecated and will be removed in Pillow 10 (2023-07-01). Use Resampling.NEAREST or Dither.NONE instead.\n",
      "  mask = TF.functional.resize(img=mask, size=[360, 640], interpolation=Image.NEAREST)\n",
      "/tmp/ipykernel_411/1864876890.py:29: DeprecationWarning: NEAREST is deprecated and will be removed in Pillow 10 (2023-07-01). Use Resampling.NEAREST or Dither.NONE instead.\n",
      "  mask = TF.functional.resize(img=mask, size=[360, 640], interpolation=Image.NEAREST)\n",
      "Validation: 100%|████████████████████████████████████████████████████████████████████████████████████████████████████████████████████████████████| 250/250 [00:57<00:00,  4.33batch/s, mean_iou=0.594]\n"
     ]
    },
    {
     "name": "stdout",
     "output_type": "stream",
     "text": [
      "Epoch 17/30 - Mean IoU: 0.5988\n"
     ]
    },
    {
     "name": "stderr",
     "output_type": "stream",
     "text": [
      "Epoch 18/30:   0%|                                                                                                                                                        | 0/1750 [00:00<?, ?batch/s]/tmp/ipykernel_411/1864876890.py:29: DeprecationWarning: NEAREST is deprecated and will be removed in Pillow 10 (2023-07-01). Use Resampling.NEAREST or Dither.NONE instead.\n",
      "  mask = TF.functional.resize(img=mask, size=[360, 640], interpolation=Image.NEAREST)\n",
      "/tmp/ipykernel_411/1864876890.py:29: DeprecationWarning: NEAREST is deprecated and will be removed in Pillow 10 (2023-07-01). Use Resampling.NEAREST or Dither.NONE instead.\n",
      "  mask = TF.functional.resize(img=mask, size=[360, 640], interpolation=Image.NEAREST)\n",
      "/tmp/ipykernel_411/1864876890.py:29: DeprecationWarning: NEAREST is deprecated and will be removed in Pillow 10 (2023-07-01). Use Resampling.NEAREST or Dither.NONE instead.\n",
      "  mask = TF.functional.resize(img=mask, size=[360, 640], interpolation=Image.NEAREST)\n",
      "/tmp/ipykernel_411/1864876890.py:29: DeprecationWarning: NEAREST is deprecated and will be removed in Pillow 10 (2023-07-01). Use Resampling.NEAREST or Dither.NONE instead.\n",
      "  mask = TF.functional.resize(img=mask, size=[360, 640], interpolation=Image.NEAREST)\n",
      "/tmp/ipykernel_411/1864876890.py:29: DeprecationWarning: NEAREST is deprecated and will be removed in Pillow 10 (2023-07-01). Use Resampling.NEAREST or Dither.NONE instead.\n",
      "  mask = TF.functional.resize(img=mask, size=[360, 640], interpolation=Image.NEAREST)\n",
      "/tmp/ipykernel_411/1864876890.py:29: DeprecationWarning: NEAREST is deprecated and will be removed in Pillow 10 (2023-07-01). Use Resampling.NEAREST or Dither.NONE instead.\n",
      "  mask = TF.functional.resize(img=mask, size=[360, 640], interpolation=Image.NEAREST)\n",
      "Epoch 18/30: 100%|████████████████████████████████████████████████████████████████████████████████████████████████████████████████████████████████| 1750/1750 [12:22<00:00,  2.36batch/s, loss=0.0285]\n",
      "Validation:   0%|                                                                                                                                                          | 0/250 [00:00<?, ?batch/s]/tmp/ipykernel_411/1864876890.py:29: DeprecationWarning: NEAREST is deprecated and will be removed in Pillow 10 (2023-07-01). Use Resampling.NEAREST or Dither.NONE instead.\n",
      "  mask = TF.functional.resize(img=mask, size=[360, 640], interpolation=Image.NEAREST)\n",
      "/tmp/ipykernel_411/1864876890.py:29: DeprecationWarning: NEAREST is deprecated and will be removed in Pillow 10 (2023-07-01). Use Resampling.NEAREST or Dither.NONE instead.\n",
      "  mask = TF.functional.resize(img=mask, size=[360, 640], interpolation=Image.NEAREST)\n",
      "/tmp/ipykernel_411/1864876890.py:29: DeprecationWarning: NEAREST is deprecated and will be removed in Pillow 10 (2023-07-01). Use Resampling.NEAREST or Dither.NONE instead.\n",
      "  mask = TF.functional.resize(img=mask, size=[360, 640], interpolation=Image.NEAREST)\n",
      "/tmp/ipykernel_411/1864876890.py:29: DeprecationWarning: NEAREST is deprecated and will be removed in Pillow 10 (2023-07-01). Use Resampling.NEAREST or Dither.NONE instead.\n",
      "  mask = TF.functional.resize(img=mask, size=[360, 640], interpolation=Image.NEAREST)\n",
      "/tmp/ipykernel_411/1864876890.py:29: DeprecationWarning: NEAREST is deprecated and will be removed in Pillow 10 (2023-07-01). Use Resampling.NEAREST or Dither.NONE instead.\n",
      "  mask = TF.functional.resize(img=mask, size=[360, 640], interpolation=Image.NEAREST)\n",
      "/tmp/ipykernel_411/1864876890.py:29: DeprecationWarning: NEAREST is deprecated and will be removed in Pillow 10 (2023-07-01). Use Resampling.NEAREST or Dither.NONE instead.\n",
      "  mask = TF.functional.resize(img=mask, size=[360, 640], interpolation=Image.NEAREST)\n",
      "Validation: 100%|████████████████████████████████████████████████████████████████████████████████████████████████████████████████████████████████| 250/250 [00:57<00:00,  4.33batch/s, mean_iou=0.596]\n"
     ]
    },
    {
     "name": "stdout",
     "output_type": "stream",
     "text": [
      "Epoch 18/30 - Mean IoU: 0.5983\n"
     ]
    },
    {
     "name": "stderr",
     "output_type": "stream",
     "text": [
      "Epoch 19/30:   0%|                                                                                                                                                        | 0/1750 [00:00<?, ?batch/s]/tmp/ipykernel_411/1864876890.py:29: DeprecationWarning: NEAREST is deprecated and will be removed in Pillow 10 (2023-07-01). Use Resampling.NEAREST or Dither.NONE instead.\n",
      "  mask = TF.functional.resize(img=mask, size=[360, 640], interpolation=Image.NEAREST)\n",
      "/tmp/ipykernel_411/1864876890.py:29: DeprecationWarning: NEAREST is deprecated and will be removed in Pillow 10 (2023-07-01). Use Resampling.NEAREST or Dither.NONE instead.\n",
      "  mask = TF.functional.resize(img=mask, size=[360, 640], interpolation=Image.NEAREST)\n",
      "/tmp/ipykernel_411/1864876890.py:29: DeprecationWarning: NEAREST is deprecated and will be removed in Pillow 10 (2023-07-01). Use Resampling.NEAREST or Dither.NONE instead.\n",
      "  mask = TF.functional.resize(img=mask, size=[360, 640], interpolation=Image.NEAREST)\n",
      "/tmp/ipykernel_411/1864876890.py:29: DeprecationWarning: NEAREST is deprecated and will be removed in Pillow 10 (2023-07-01). Use Resampling.NEAREST or Dither.NONE instead.\n",
      "  mask = TF.functional.resize(img=mask, size=[360, 640], interpolation=Image.NEAREST)\n",
      "/tmp/ipykernel_411/1864876890.py:29: DeprecationWarning: NEAREST is deprecated and will be removed in Pillow 10 (2023-07-01). Use Resampling.NEAREST or Dither.NONE instead.\n",
      "  mask = TF.functional.resize(img=mask, size=[360, 640], interpolation=Image.NEAREST)\n",
      "/tmp/ipykernel_411/1864876890.py:29: DeprecationWarning: NEAREST is deprecated and will be removed in Pillow 10 (2023-07-01). Use Resampling.NEAREST or Dither.NONE instead.\n",
      "  mask = TF.functional.resize(img=mask, size=[360, 640], interpolation=Image.NEAREST)\n",
      "Epoch 19/30: 100%|████████████████████████████████████████████████████████████████████████████████████████████████████████████████████████████████| 1750/1750 [12:22<00:00,  2.36batch/s, loss=0.0233]\n",
      "Validation:   0%|                                                                                                                                                          | 0/250 [00:00<?, ?batch/s]/tmp/ipykernel_411/1864876890.py:29: DeprecationWarning: NEAREST is deprecated and will be removed in Pillow 10 (2023-07-01). Use Resampling.NEAREST or Dither.NONE instead.\n",
      "  mask = TF.functional.resize(img=mask, size=[360, 640], interpolation=Image.NEAREST)\n",
      "/tmp/ipykernel_411/1864876890.py:29: DeprecationWarning: NEAREST is deprecated and will be removed in Pillow 10 (2023-07-01). Use Resampling.NEAREST or Dither.NONE instead.\n",
      "  mask = TF.functional.resize(img=mask, size=[360, 640], interpolation=Image.NEAREST)\n",
      "/tmp/ipykernel_411/1864876890.py:29: DeprecationWarning: NEAREST is deprecated and will be removed in Pillow 10 (2023-07-01). Use Resampling.NEAREST or Dither.NONE instead.\n",
      "  mask = TF.functional.resize(img=mask, size=[360, 640], interpolation=Image.NEAREST)\n",
      "/tmp/ipykernel_411/1864876890.py:29: DeprecationWarning: NEAREST is deprecated and will be removed in Pillow 10 (2023-07-01). Use Resampling.NEAREST or Dither.NONE instead.\n",
      "  mask = TF.functional.resize(img=mask, size=[360, 640], interpolation=Image.NEAREST)\n",
      "/tmp/ipykernel_411/1864876890.py:29: DeprecationWarning: NEAREST is deprecated and will be removed in Pillow 10 (2023-07-01). Use Resampling.NEAREST or Dither.NONE instead.\n",
      "  mask = TF.functional.resize(img=mask, size=[360, 640], interpolation=Image.NEAREST)\n",
      "/tmp/ipykernel_411/1864876890.py:29: DeprecationWarning: NEAREST is deprecated and will be removed in Pillow 10 (2023-07-01). Use Resampling.NEAREST or Dither.NONE instead.\n",
      "  mask = TF.functional.resize(img=mask, size=[360, 640], interpolation=Image.NEAREST)\n",
      "Validation: 100%|████████████████████████████████████████████████████████████████████████████████████████████████████████████████████████████████| 250/250 [00:57<00:00,  4.33batch/s, mean_iou=0.592]\n"
     ]
    },
    {
     "name": "stdout",
     "output_type": "stream",
     "text": [
      "Epoch 19/30 - Mean IoU: 0.5995\n"
     ]
    },
    {
     "name": "stderr",
     "output_type": "stream",
     "text": [
      "Epoch 20/30:   0%|                                                                                                                                                        | 0/1750 [00:00<?, ?batch/s]/tmp/ipykernel_411/1864876890.py:29: DeprecationWarning: NEAREST is deprecated and will be removed in Pillow 10 (2023-07-01). Use Resampling.NEAREST or Dither.NONE instead.\n",
      "  mask = TF.functional.resize(img=mask, size=[360, 640], interpolation=Image.NEAREST)\n",
      "/tmp/ipykernel_411/1864876890.py:29: DeprecationWarning: NEAREST is deprecated and will be removed in Pillow 10 (2023-07-01). Use Resampling.NEAREST or Dither.NONE instead.\n",
      "  mask = TF.functional.resize(img=mask, size=[360, 640], interpolation=Image.NEAREST)\n",
      "/tmp/ipykernel_411/1864876890.py:29: DeprecationWarning: NEAREST is deprecated and will be removed in Pillow 10 (2023-07-01). Use Resampling.NEAREST or Dither.NONE instead.\n",
      "  mask = TF.functional.resize(img=mask, size=[360, 640], interpolation=Image.NEAREST)\n",
      "/tmp/ipykernel_411/1864876890.py:29: DeprecationWarning: NEAREST is deprecated and will be removed in Pillow 10 (2023-07-01). Use Resampling.NEAREST or Dither.NONE instead.\n",
      "  mask = TF.functional.resize(img=mask, size=[360, 640], interpolation=Image.NEAREST)\n",
      "/tmp/ipykernel_411/1864876890.py:29: DeprecationWarning: NEAREST is deprecated and will be removed in Pillow 10 (2023-07-01). Use Resampling.NEAREST or Dither.NONE instead.\n",
      "  mask = TF.functional.resize(img=mask, size=[360, 640], interpolation=Image.NEAREST)\n",
      "/tmp/ipykernel_411/1864876890.py:29: DeprecationWarning: NEAREST is deprecated and will be removed in Pillow 10 (2023-07-01). Use Resampling.NEAREST or Dither.NONE instead.\n",
      "  mask = TF.functional.resize(img=mask, size=[360, 640], interpolation=Image.NEAREST)\n",
      "Epoch 20/30: 100%|████████████████████████████████████████████████████████████████████████████████████████████████████████████████████████████████| 1750/1750 [12:22<00:00,  2.36batch/s, loss=0.0217]\n",
      "Validation:   0%|                                                                                                                                                          | 0/250 [00:00<?, ?batch/s]/tmp/ipykernel_411/1864876890.py:29: DeprecationWarning: NEAREST is deprecated and will be removed in Pillow 10 (2023-07-01). Use Resampling.NEAREST or Dither.NONE instead.\n",
      "  mask = TF.functional.resize(img=mask, size=[360, 640], interpolation=Image.NEAREST)\n",
      "/tmp/ipykernel_411/1864876890.py:29: DeprecationWarning: NEAREST is deprecated and will be removed in Pillow 10 (2023-07-01). Use Resampling.NEAREST or Dither.NONE instead.\n",
      "  mask = TF.functional.resize(img=mask, size=[360, 640], interpolation=Image.NEAREST)\n",
      "/tmp/ipykernel_411/1864876890.py:29: DeprecationWarning: NEAREST is deprecated and will be removed in Pillow 10 (2023-07-01). Use Resampling.NEAREST or Dither.NONE instead.\n",
      "  mask = TF.functional.resize(img=mask, size=[360, 640], interpolation=Image.NEAREST)\n",
      "/tmp/ipykernel_411/1864876890.py:29: DeprecationWarning: NEAREST is deprecated and will be removed in Pillow 10 (2023-07-01). Use Resampling.NEAREST or Dither.NONE instead.\n",
      "  mask = TF.functional.resize(img=mask, size=[360, 640], interpolation=Image.NEAREST)\n",
      "/tmp/ipykernel_411/1864876890.py:29: DeprecationWarning: NEAREST is deprecated and will be removed in Pillow 10 (2023-07-01). Use Resampling.NEAREST or Dither.NONE instead.\n",
      "  mask = TF.functional.resize(img=mask, size=[360, 640], interpolation=Image.NEAREST)\n",
      "/tmp/ipykernel_411/1864876890.py:29: DeprecationWarning: NEAREST is deprecated and will be removed in Pillow 10 (2023-07-01). Use Resampling.NEAREST or Dither.NONE instead.\n",
      "  mask = TF.functional.resize(img=mask, size=[360, 640], interpolation=Image.NEAREST)\n",
      "Validation: 100%|████████████████████████████████████████████████████████████████████████████████████████████████████████████████████████████████| 250/250 [00:57<00:00,  4.32batch/s, mean_iou=0.589]\n"
     ]
    },
    {
     "name": "stdout",
     "output_type": "stream",
     "text": [
      "Epoch 20/30 - Mean IoU: 0.5976\n"
     ]
    },
    {
     "name": "stderr",
     "output_type": "stream",
     "text": [
      "Epoch 21/30:   0%|                                                                                                                                                        | 0/1750 [00:00<?, ?batch/s]/tmp/ipykernel_411/1864876890.py:29: DeprecationWarning: NEAREST is deprecated and will be removed in Pillow 10 (2023-07-01). Use Resampling.NEAREST or Dither.NONE instead.\n",
      "  mask = TF.functional.resize(img=mask, size=[360, 640], interpolation=Image.NEAREST)\n",
      "/tmp/ipykernel_411/1864876890.py:29: DeprecationWarning: NEAREST is deprecated and will be removed in Pillow 10 (2023-07-01). Use Resampling.NEAREST or Dither.NONE instead.\n",
      "  mask = TF.functional.resize(img=mask, size=[360, 640], interpolation=Image.NEAREST)\n",
      "/tmp/ipykernel_411/1864876890.py:29: DeprecationWarning: NEAREST is deprecated and will be removed in Pillow 10 (2023-07-01). Use Resampling.NEAREST or Dither.NONE instead.\n",
      "  mask = TF.functional.resize(img=mask, size=[360, 640], interpolation=Image.NEAREST)\n",
      "/tmp/ipykernel_411/1864876890.py:29: DeprecationWarning: NEAREST is deprecated and will be removed in Pillow 10 (2023-07-01). Use Resampling.NEAREST or Dither.NONE instead.\n",
      "  mask = TF.functional.resize(img=mask, size=[360, 640], interpolation=Image.NEAREST)\n",
      "/tmp/ipykernel_411/1864876890.py:29: DeprecationWarning: NEAREST is deprecated and will be removed in Pillow 10 (2023-07-01). Use Resampling.NEAREST or Dither.NONE instead.\n",
      "  mask = TF.functional.resize(img=mask, size=[360, 640], interpolation=Image.NEAREST)\n",
      "/tmp/ipykernel_411/1864876890.py:29: DeprecationWarning: NEAREST is deprecated and will be removed in Pillow 10 (2023-07-01). Use Resampling.NEAREST or Dither.NONE instead.\n",
      "  mask = TF.functional.resize(img=mask, size=[360, 640], interpolation=Image.NEAREST)\n",
      "Epoch 21/30: 100%|████████████████████████████████████████████████████████████████████████████████████████████████████████████████████████████████| 1750/1750 [12:22<00:00,  2.36batch/s, loss=0.0333]\n",
      "Validation:   0%|                                                                                                                                                          | 0/250 [00:00<?, ?batch/s]/tmp/ipykernel_411/1864876890.py:29: DeprecationWarning: NEAREST is deprecated and will be removed in Pillow 10 (2023-07-01). Use Resampling.NEAREST or Dither.NONE instead.\n",
      "  mask = TF.functional.resize(img=mask, size=[360, 640], interpolation=Image.NEAREST)\n",
      "/tmp/ipykernel_411/1864876890.py:29: DeprecationWarning: NEAREST is deprecated and will be removed in Pillow 10 (2023-07-01). Use Resampling.NEAREST or Dither.NONE instead.\n",
      "  mask = TF.functional.resize(img=mask, size=[360, 640], interpolation=Image.NEAREST)\n",
      "/tmp/ipykernel_411/1864876890.py:29: DeprecationWarning: NEAREST is deprecated and will be removed in Pillow 10 (2023-07-01). Use Resampling.NEAREST or Dither.NONE instead.\n",
      "  mask = TF.functional.resize(img=mask, size=[360, 640], interpolation=Image.NEAREST)\n",
      "/tmp/ipykernel_411/1864876890.py:29: DeprecationWarning: NEAREST is deprecated and will be removed in Pillow 10 (2023-07-01). Use Resampling.NEAREST or Dither.NONE instead.\n",
      "  mask = TF.functional.resize(img=mask, size=[360, 640], interpolation=Image.NEAREST)\n",
      "/tmp/ipykernel_411/1864876890.py:29: DeprecationWarning: NEAREST is deprecated and will be removed in Pillow 10 (2023-07-01). Use Resampling.NEAREST or Dither.NONE instead.\n",
      "  mask = TF.functional.resize(img=mask, size=[360, 640], interpolation=Image.NEAREST)\n",
      "/tmp/ipykernel_411/1864876890.py:29: DeprecationWarning: NEAREST is deprecated and will be removed in Pillow 10 (2023-07-01). Use Resampling.NEAREST or Dither.NONE instead.\n",
      "  mask = TF.functional.resize(img=mask, size=[360, 640], interpolation=Image.NEAREST)\n",
      "Validation: 100%|████████████████████████████████████████████████████████████████████████████████████████████████████████████████████████████████| 250/250 [00:57<00:00,  4.32batch/s, mean_iou=0.593]\n"
     ]
    },
    {
     "name": "stdout",
     "output_type": "stream",
     "text": [
      "Epoch 21/30 - Mean IoU: 0.5974\n"
     ]
    },
    {
     "name": "stderr",
     "output_type": "stream",
     "text": [
      "Epoch 22/30:   0%|                                                                                                                                                        | 0/1750 [00:00<?, ?batch/s]/tmp/ipykernel_411/1864876890.py:29: DeprecationWarning: NEAREST is deprecated and will be removed in Pillow 10 (2023-07-01). Use Resampling.NEAREST or Dither.NONE instead.\n",
      "  mask = TF.functional.resize(img=mask, size=[360, 640], interpolation=Image.NEAREST)\n",
      "/tmp/ipykernel_411/1864876890.py:29: DeprecationWarning: NEAREST is deprecated and will be removed in Pillow 10 (2023-07-01). Use Resampling.NEAREST or Dither.NONE instead.\n",
      "  mask = TF.functional.resize(img=mask, size=[360, 640], interpolation=Image.NEAREST)\n",
      "/tmp/ipykernel_411/1864876890.py:29: DeprecationWarning: NEAREST is deprecated and will be removed in Pillow 10 (2023-07-01). Use Resampling.NEAREST or Dither.NONE instead.\n",
      "  mask = TF.functional.resize(img=mask, size=[360, 640], interpolation=Image.NEAREST)\n",
      "/tmp/ipykernel_411/1864876890.py:29: DeprecationWarning: NEAREST is deprecated and will be removed in Pillow 10 (2023-07-01). Use Resampling.NEAREST or Dither.NONE instead.\n",
      "  mask = TF.functional.resize(img=mask, size=[360, 640], interpolation=Image.NEAREST)\n",
      "/tmp/ipykernel_411/1864876890.py:29: DeprecationWarning: NEAREST is deprecated and will be removed in Pillow 10 (2023-07-01). Use Resampling.NEAREST or Dither.NONE instead.\n",
      "  mask = TF.functional.resize(img=mask, size=[360, 640], interpolation=Image.NEAREST)\n",
      "/tmp/ipykernel_411/1864876890.py:29: DeprecationWarning: NEAREST is deprecated and will be removed in Pillow 10 (2023-07-01). Use Resampling.NEAREST or Dither.NONE instead.\n",
      "  mask = TF.functional.resize(img=mask, size=[360, 640], interpolation=Image.NEAREST)\n",
      "Epoch 22/30: 100%|█████████████████████████████████████████████████████████████████████████████████████████████████████████████████████████████████| 1750/1750 [12:22<00:00,  2.36batch/s, loss=0.025]\n",
      "Validation:   0%|                                                                                                                                                          | 0/250 [00:00<?, ?batch/s]/tmp/ipykernel_411/1864876890.py:29: DeprecationWarning: NEAREST is deprecated and will be removed in Pillow 10 (2023-07-01). Use Resampling.NEAREST or Dither.NONE instead.\n",
      "  mask = TF.functional.resize(img=mask, size=[360, 640], interpolation=Image.NEAREST)\n",
      "/tmp/ipykernel_411/1864876890.py:29: DeprecationWarning: NEAREST is deprecated and will be removed in Pillow 10 (2023-07-01). Use Resampling.NEAREST or Dither.NONE instead.\n",
      "  mask = TF.functional.resize(img=mask, size=[360, 640], interpolation=Image.NEAREST)\n",
      "/tmp/ipykernel_411/1864876890.py:29: DeprecationWarning: NEAREST is deprecated and will be removed in Pillow 10 (2023-07-01). Use Resampling.NEAREST or Dither.NONE instead.\n",
      "  mask = TF.functional.resize(img=mask, size=[360, 640], interpolation=Image.NEAREST)\n",
      "/tmp/ipykernel_411/1864876890.py:29: DeprecationWarning: NEAREST is deprecated and will be removed in Pillow 10 (2023-07-01). Use Resampling.NEAREST or Dither.NONE instead.\n",
      "  mask = TF.functional.resize(img=mask, size=[360, 640], interpolation=Image.NEAREST)\n",
      "/tmp/ipykernel_411/1864876890.py:29: DeprecationWarning: NEAREST is deprecated and will be removed in Pillow 10 (2023-07-01). Use Resampling.NEAREST or Dither.NONE instead.\n",
      "  mask = TF.functional.resize(img=mask, size=[360, 640], interpolation=Image.NEAREST)\n",
      "/tmp/ipykernel_411/1864876890.py:29: DeprecationWarning: NEAREST is deprecated and will be removed in Pillow 10 (2023-07-01). Use Resampling.NEAREST or Dither.NONE instead.\n",
      "  mask = TF.functional.resize(img=mask, size=[360, 640], interpolation=Image.NEAREST)\n",
      "Validation: 100%|████████████████████████████████████████████████████████████████████████████████████████████████████████████████████████████████| 250/250 [00:57<00:00,  4.32batch/s, mean_iou=0.591]\n"
     ]
    },
    {
     "name": "stdout",
     "output_type": "stream",
     "text": [
      "Epoch 22/30 - Mean IoU: 0.5980\n"
     ]
    },
    {
     "name": "stderr",
     "output_type": "stream",
     "text": [
      "Epoch 23/30:   0%|                                                                                                                                                        | 0/1750 [00:00<?, ?batch/s]/tmp/ipykernel_411/1864876890.py:29: DeprecationWarning: NEAREST is deprecated and will be removed in Pillow 10 (2023-07-01). Use Resampling.NEAREST or Dither.NONE instead.\n",
      "  mask = TF.functional.resize(img=mask, size=[360, 640], interpolation=Image.NEAREST)\n",
      "/tmp/ipykernel_411/1864876890.py:29: DeprecationWarning: NEAREST is deprecated and will be removed in Pillow 10 (2023-07-01). Use Resampling.NEAREST or Dither.NONE instead.\n",
      "  mask = TF.functional.resize(img=mask, size=[360, 640], interpolation=Image.NEAREST)\n",
      "/tmp/ipykernel_411/1864876890.py:29: DeprecationWarning: NEAREST is deprecated and will be removed in Pillow 10 (2023-07-01). Use Resampling.NEAREST or Dither.NONE instead.\n",
      "  mask = TF.functional.resize(img=mask, size=[360, 640], interpolation=Image.NEAREST)\n",
      "/tmp/ipykernel_411/1864876890.py:29: DeprecationWarning: NEAREST is deprecated and will be removed in Pillow 10 (2023-07-01). Use Resampling.NEAREST or Dither.NONE instead.\n",
      "  mask = TF.functional.resize(img=mask, size=[360, 640], interpolation=Image.NEAREST)\n",
      "/tmp/ipykernel_411/1864876890.py:29: DeprecationWarning: NEAREST is deprecated and will be removed in Pillow 10 (2023-07-01). Use Resampling.NEAREST or Dither.NONE instead.\n",
      "  mask = TF.functional.resize(img=mask, size=[360, 640], interpolation=Image.NEAREST)\n",
      "/tmp/ipykernel_411/1864876890.py:29: DeprecationWarning: NEAREST is deprecated and will be removed in Pillow 10 (2023-07-01). Use Resampling.NEAREST or Dither.NONE instead.\n",
      "  mask = TF.functional.resize(img=mask, size=[360, 640], interpolation=Image.NEAREST)\n",
      "Epoch 23/30: 100%|███████████████████████████████████████████████████████████████████████████████████████████████████████████████████████████████| 1750/1750 [12:22<00:00,  2.36batch/s, loss=0.00757]\n",
      "Validation:   0%|                                                                                                                                                          | 0/250 [00:00<?, ?batch/s]/tmp/ipykernel_411/1864876890.py:29: DeprecationWarning: NEAREST is deprecated and will be removed in Pillow 10 (2023-07-01). Use Resampling.NEAREST or Dither.NONE instead.\n",
      "  mask = TF.functional.resize(img=mask, size=[360, 640], interpolation=Image.NEAREST)\n",
      "/tmp/ipykernel_411/1864876890.py:29: DeprecationWarning: NEAREST is deprecated and will be removed in Pillow 10 (2023-07-01). Use Resampling.NEAREST or Dither.NONE instead.\n",
      "  mask = TF.functional.resize(img=mask, size=[360, 640], interpolation=Image.NEAREST)\n",
      "/tmp/ipykernel_411/1864876890.py:29: DeprecationWarning: NEAREST is deprecated and will be removed in Pillow 10 (2023-07-01). Use Resampling.NEAREST or Dither.NONE instead.\n",
      "  mask = TF.functional.resize(img=mask, size=[360, 640], interpolation=Image.NEAREST)\n",
      "/tmp/ipykernel_411/1864876890.py:29: DeprecationWarning: NEAREST is deprecated and will be removed in Pillow 10 (2023-07-01). Use Resampling.NEAREST or Dither.NONE instead.\n",
      "  mask = TF.functional.resize(img=mask, size=[360, 640], interpolation=Image.NEAREST)\n",
      "/tmp/ipykernel_411/1864876890.py:29: DeprecationWarning: NEAREST is deprecated and will be removed in Pillow 10 (2023-07-01). Use Resampling.NEAREST or Dither.NONE instead.\n",
      "  mask = TF.functional.resize(img=mask, size=[360, 640], interpolation=Image.NEAREST)\n",
      "/tmp/ipykernel_411/1864876890.py:29: DeprecationWarning: NEAREST is deprecated and will be removed in Pillow 10 (2023-07-01). Use Resampling.NEAREST or Dither.NONE instead.\n",
      "  mask = TF.functional.resize(img=mask, size=[360, 640], interpolation=Image.NEAREST)\n",
      "Validation: 100%|████████████████████████████████████████████████████████████████████████████████████████████████████████████████████████████████| 250/250 [00:57<00:00,  4.31batch/s, mean_iou=0.592]\n"
     ]
    },
    {
     "name": "stdout",
     "output_type": "stream",
     "text": [
      "Epoch 23/30 - Mean IoU: 0.5983\n"
     ]
    },
    {
     "name": "stderr",
     "output_type": "stream",
     "text": [
      "Epoch 24/30:   0%|                                                                                                                                                        | 0/1750 [00:00<?, ?batch/s]/tmp/ipykernel_411/1864876890.py:29: DeprecationWarning: NEAREST is deprecated and will be removed in Pillow 10 (2023-07-01). Use Resampling.NEAREST or Dither.NONE instead.\n",
      "  mask = TF.functional.resize(img=mask, size=[360, 640], interpolation=Image.NEAREST)\n",
      "/tmp/ipykernel_411/1864876890.py:29: DeprecationWarning: NEAREST is deprecated and will be removed in Pillow 10 (2023-07-01). Use Resampling.NEAREST or Dither.NONE instead.\n",
      "  mask = TF.functional.resize(img=mask, size=[360, 640], interpolation=Image.NEAREST)\n",
      "/tmp/ipykernel_411/1864876890.py:29: DeprecationWarning: NEAREST is deprecated and will be removed in Pillow 10 (2023-07-01). Use Resampling.NEAREST or Dither.NONE instead.\n",
      "  mask = TF.functional.resize(img=mask, size=[360, 640], interpolation=Image.NEAREST)\n",
      "/tmp/ipykernel_411/1864876890.py:29: DeprecationWarning: NEAREST is deprecated and will be removed in Pillow 10 (2023-07-01). Use Resampling.NEAREST or Dither.NONE instead.\n",
      "  mask = TF.functional.resize(img=mask, size=[360, 640], interpolation=Image.NEAREST)\n",
      "/tmp/ipykernel_411/1864876890.py:29: DeprecationWarning: NEAREST is deprecated and will be removed in Pillow 10 (2023-07-01). Use Resampling.NEAREST or Dither.NONE instead.\n",
      "  mask = TF.functional.resize(img=mask, size=[360, 640], interpolation=Image.NEAREST)\n",
      "/tmp/ipykernel_411/1864876890.py:29: DeprecationWarning: NEAREST is deprecated and will be removed in Pillow 10 (2023-07-01). Use Resampling.NEAREST or Dither.NONE instead.\n",
      "  mask = TF.functional.resize(img=mask, size=[360, 640], interpolation=Image.NEAREST)\n",
      "Epoch 24/30: 100%|████████████████████████████████████████████████████████████████████████████████████████████████████████████████████████████████| 1750/1750 [12:22<00:00,  2.36batch/s, loss=0.0152]\n",
      "Validation:   0%|                                                                                                                                                          | 0/250 [00:00<?, ?batch/s]/tmp/ipykernel_411/1864876890.py:29: DeprecationWarning: NEAREST is deprecated and will be removed in Pillow 10 (2023-07-01). Use Resampling.NEAREST or Dither.NONE instead.\n",
      "  mask = TF.functional.resize(img=mask, size=[360, 640], interpolation=Image.NEAREST)\n",
      "/tmp/ipykernel_411/1864876890.py:29: DeprecationWarning: NEAREST is deprecated and will be removed in Pillow 10 (2023-07-01). Use Resampling.NEAREST or Dither.NONE instead.\n",
      "  mask = TF.functional.resize(img=mask, size=[360, 640], interpolation=Image.NEAREST)\n",
      "/tmp/ipykernel_411/1864876890.py:29: DeprecationWarning: NEAREST is deprecated and will be removed in Pillow 10 (2023-07-01). Use Resampling.NEAREST or Dither.NONE instead.\n",
      "  mask = TF.functional.resize(img=mask, size=[360, 640], interpolation=Image.NEAREST)\n",
      "/tmp/ipykernel_411/1864876890.py:29: DeprecationWarning: NEAREST is deprecated and will be removed in Pillow 10 (2023-07-01). Use Resampling.NEAREST or Dither.NONE instead.\n",
      "  mask = TF.functional.resize(img=mask, size=[360, 640], interpolation=Image.NEAREST)\n",
      "/tmp/ipykernel_411/1864876890.py:29: DeprecationWarning: NEAREST is deprecated and will be removed in Pillow 10 (2023-07-01). Use Resampling.NEAREST or Dither.NONE instead.\n",
      "  mask = TF.functional.resize(img=mask, size=[360, 640], interpolation=Image.NEAREST)\n",
      "/tmp/ipykernel_411/1864876890.py:29: DeprecationWarning: NEAREST is deprecated and will be removed in Pillow 10 (2023-07-01). Use Resampling.NEAREST or Dither.NONE instead.\n",
      "  mask = TF.functional.resize(img=mask, size=[360, 640], interpolation=Image.NEAREST)\n",
      "Validation: 100%|████████████████████████████████████████████████████████████████████████████████████████████████████████████████████████████████| 250/250 [00:57<00:00,  4.32batch/s, mean_iou=0.592]\n"
     ]
    },
    {
     "name": "stdout",
     "output_type": "stream",
     "text": [
      "Epoch 24/30 - Mean IoU: 0.5976\n"
     ]
    },
    {
     "name": "stderr",
     "output_type": "stream",
     "text": [
      "Epoch 25/30:   0%|                                                                                                                                                        | 0/1750 [00:00<?, ?batch/s]/tmp/ipykernel_411/1864876890.py:29: DeprecationWarning: NEAREST is deprecated and will be removed in Pillow 10 (2023-07-01). Use Resampling.NEAREST or Dither.NONE instead.\n",
      "  mask = TF.functional.resize(img=mask, size=[360, 640], interpolation=Image.NEAREST)\n",
      "/tmp/ipykernel_411/1864876890.py:29: DeprecationWarning: NEAREST is deprecated and will be removed in Pillow 10 (2023-07-01). Use Resampling.NEAREST or Dither.NONE instead.\n",
      "  mask = TF.functional.resize(img=mask, size=[360, 640], interpolation=Image.NEAREST)\n",
      "/tmp/ipykernel_411/1864876890.py:29: DeprecationWarning: NEAREST is deprecated and will be removed in Pillow 10 (2023-07-01). Use Resampling.NEAREST or Dither.NONE instead.\n",
      "  mask = TF.functional.resize(img=mask, size=[360, 640], interpolation=Image.NEAREST)\n",
      "/tmp/ipykernel_411/1864876890.py:29: DeprecationWarning: NEAREST is deprecated and will be removed in Pillow 10 (2023-07-01). Use Resampling.NEAREST or Dither.NONE instead.\n",
      "  mask = TF.functional.resize(img=mask, size=[360, 640], interpolation=Image.NEAREST)\n",
      "/tmp/ipykernel_411/1864876890.py:29: DeprecationWarning: NEAREST is deprecated and will be removed in Pillow 10 (2023-07-01). Use Resampling.NEAREST or Dither.NONE instead.\n",
      "  mask = TF.functional.resize(img=mask, size=[360, 640], interpolation=Image.NEAREST)\n",
      "/tmp/ipykernel_411/1864876890.py:29: DeprecationWarning: NEAREST is deprecated and will be removed in Pillow 10 (2023-07-01). Use Resampling.NEAREST or Dither.NONE instead.\n",
      "  mask = TF.functional.resize(img=mask, size=[360, 640], interpolation=Image.NEAREST)\n",
      "Epoch 25/30: 100%|████████████████████████████████████████████████████████████████████████████████████████████████████████████████████████████████| 1750/1750 [12:22<00:00,  2.36batch/s, loss=0.0135]\n",
      "Validation:   0%|                                                                                                                                                          | 0/250 [00:00<?, ?batch/s]/tmp/ipykernel_411/1864876890.py:29: DeprecationWarning: NEAREST is deprecated and will be removed in Pillow 10 (2023-07-01). Use Resampling.NEAREST or Dither.NONE instead.\n",
      "  mask = TF.functional.resize(img=mask, size=[360, 640], interpolation=Image.NEAREST)\n",
      "/tmp/ipykernel_411/1864876890.py:29: DeprecationWarning: NEAREST is deprecated and will be removed in Pillow 10 (2023-07-01). Use Resampling.NEAREST or Dither.NONE instead.\n",
      "  mask = TF.functional.resize(img=mask, size=[360, 640], interpolation=Image.NEAREST)\n",
      "/tmp/ipykernel_411/1864876890.py:29: DeprecationWarning: NEAREST is deprecated and will be removed in Pillow 10 (2023-07-01). Use Resampling.NEAREST or Dither.NONE instead.\n",
      "  mask = TF.functional.resize(img=mask, size=[360, 640], interpolation=Image.NEAREST)\n",
      "/tmp/ipykernel_411/1864876890.py:29: DeprecationWarning: NEAREST is deprecated and will be removed in Pillow 10 (2023-07-01). Use Resampling.NEAREST or Dither.NONE instead.\n",
      "  mask = TF.functional.resize(img=mask, size=[360, 640], interpolation=Image.NEAREST)\n",
      "/tmp/ipykernel_411/1864876890.py:29: DeprecationWarning: NEAREST is deprecated and will be removed in Pillow 10 (2023-07-01). Use Resampling.NEAREST or Dither.NONE instead.\n",
      "  mask = TF.functional.resize(img=mask, size=[360, 640], interpolation=Image.NEAREST)\n",
      "/tmp/ipykernel_411/1864876890.py:29: DeprecationWarning: NEAREST is deprecated and will be removed in Pillow 10 (2023-07-01). Use Resampling.NEAREST or Dither.NONE instead.\n",
      "  mask = TF.functional.resize(img=mask, size=[360, 640], interpolation=Image.NEAREST)\n",
      "Validation: 100%|████████████████████████████████████████████████████████████████████████████████████████████████████████████████████████████████| 250/250 [00:57<00:00,  4.33batch/s, mean_iou=0.593]\n"
     ]
    },
    {
     "name": "stdout",
     "output_type": "stream",
     "text": [
      "Epoch 25/30 - Mean IoU: 0.5990\n"
     ]
    },
    {
     "name": "stderr",
     "output_type": "stream",
     "text": [
      "Epoch 26/30:   0%|                                                                                                                                                        | 0/1750 [00:00<?, ?batch/s]/tmp/ipykernel_411/1864876890.py:29: DeprecationWarning: NEAREST is deprecated and will be removed in Pillow 10 (2023-07-01). Use Resampling.NEAREST or Dither.NONE instead.\n",
      "  mask = TF.functional.resize(img=mask, size=[360, 640], interpolation=Image.NEAREST)\n",
      "/tmp/ipykernel_411/1864876890.py:29: DeprecationWarning: NEAREST is deprecated and will be removed in Pillow 10 (2023-07-01). Use Resampling.NEAREST or Dither.NONE instead.\n",
      "  mask = TF.functional.resize(img=mask, size=[360, 640], interpolation=Image.NEAREST)\n",
      "/tmp/ipykernel_411/1864876890.py:29: DeprecationWarning: NEAREST is deprecated and will be removed in Pillow 10 (2023-07-01). Use Resampling.NEAREST or Dither.NONE instead.\n",
      "  mask = TF.functional.resize(img=mask, size=[360, 640], interpolation=Image.NEAREST)\n",
      "/tmp/ipykernel_411/1864876890.py:29: DeprecationWarning: NEAREST is deprecated and will be removed in Pillow 10 (2023-07-01). Use Resampling.NEAREST or Dither.NONE instead.\n",
      "  mask = TF.functional.resize(img=mask, size=[360, 640], interpolation=Image.NEAREST)\n",
      "/tmp/ipykernel_411/1864876890.py:29: DeprecationWarning: NEAREST is deprecated and will be removed in Pillow 10 (2023-07-01). Use Resampling.NEAREST or Dither.NONE instead.\n",
      "  mask = TF.functional.resize(img=mask, size=[360, 640], interpolation=Image.NEAREST)\n",
      "/tmp/ipykernel_411/1864876890.py:29: DeprecationWarning: NEAREST is deprecated and will be removed in Pillow 10 (2023-07-01). Use Resampling.NEAREST or Dither.NONE instead.\n",
      "  mask = TF.functional.resize(img=mask, size=[360, 640], interpolation=Image.NEAREST)\n",
      "Epoch 26/30: 100%|████████████████████████████████████████████████████████████████████████████████████████████████████████████████████████████████| 1750/1750 [12:22<00:00,  2.36batch/s, loss=0.0247]\n",
      "Validation:   0%|                                                                                                                                                          | 0/250 [00:00<?, ?batch/s]/tmp/ipykernel_411/1864876890.py:29: DeprecationWarning: NEAREST is deprecated and will be removed in Pillow 10 (2023-07-01). Use Resampling.NEAREST or Dither.NONE instead.\n",
      "  mask = TF.functional.resize(img=mask, size=[360, 640], interpolation=Image.NEAREST)\n",
      "/tmp/ipykernel_411/1864876890.py:29: DeprecationWarning: NEAREST is deprecated and will be removed in Pillow 10 (2023-07-01). Use Resampling.NEAREST or Dither.NONE instead.\n",
      "  mask = TF.functional.resize(img=mask, size=[360, 640], interpolation=Image.NEAREST)\n",
      "/tmp/ipykernel_411/1864876890.py:29: DeprecationWarning: NEAREST is deprecated and will be removed in Pillow 10 (2023-07-01). Use Resampling.NEAREST or Dither.NONE instead.\n",
      "  mask = TF.functional.resize(img=mask, size=[360, 640], interpolation=Image.NEAREST)\n",
      "/tmp/ipykernel_411/1864876890.py:29: DeprecationWarning: NEAREST is deprecated and will be removed in Pillow 10 (2023-07-01). Use Resampling.NEAREST or Dither.NONE instead.\n",
      "  mask = TF.functional.resize(img=mask, size=[360, 640], interpolation=Image.NEAREST)\n",
      "/tmp/ipykernel_411/1864876890.py:29: DeprecationWarning: NEAREST is deprecated and will be removed in Pillow 10 (2023-07-01). Use Resampling.NEAREST or Dither.NONE instead.\n",
      "  mask = TF.functional.resize(img=mask, size=[360, 640], interpolation=Image.NEAREST)\n",
      "/tmp/ipykernel_411/1864876890.py:29: DeprecationWarning: NEAREST is deprecated and will be removed in Pillow 10 (2023-07-01). Use Resampling.NEAREST or Dither.NONE instead.\n",
      "  mask = TF.functional.resize(img=mask, size=[360, 640], interpolation=Image.NEAREST)\n",
      "Validation: 100%|████████████████████████████████████████████████████████████████████████████████████████████████████████████████████████████████| 250/250 [00:57<00:00,  4.33batch/s, mean_iou=0.589]\n"
     ]
    },
    {
     "name": "stdout",
     "output_type": "stream",
     "text": [
      "Epoch 26/30 - Mean IoU: 0.5980\n"
     ]
    },
    {
     "name": "stderr",
     "output_type": "stream",
     "text": [
      "Epoch 27/30:   0%|                                                                                                                                                        | 0/1750 [00:00<?, ?batch/s]/tmp/ipykernel_411/1864876890.py:29: DeprecationWarning: NEAREST is deprecated and will be removed in Pillow 10 (2023-07-01). Use Resampling.NEAREST or Dither.NONE instead.\n",
      "  mask = TF.functional.resize(img=mask, size=[360, 640], interpolation=Image.NEAREST)\n",
      "/tmp/ipykernel_411/1864876890.py:29: DeprecationWarning: NEAREST is deprecated and will be removed in Pillow 10 (2023-07-01). Use Resampling.NEAREST or Dither.NONE instead.\n",
      "  mask = TF.functional.resize(img=mask, size=[360, 640], interpolation=Image.NEAREST)\n",
      "/tmp/ipykernel_411/1864876890.py:29: DeprecationWarning: NEAREST is deprecated and will be removed in Pillow 10 (2023-07-01). Use Resampling.NEAREST or Dither.NONE instead.\n",
      "  mask = TF.functional.resize(img=mask, size=[360, 640], interpolation=Image.NEAREST)\n",
      "/tmp/ipykernel_411/1864876890.py:29: DeprecationWarning: NEAREST is deprecated and will be removed in Pillow 10 (2023-07-01). Use Resampling.NEAREST or Dither.NONE instead.\n",
      "  mask = TF.functional.resize(img=mask, size=[360, 640], interpolation=Image.NEAREST)\n",
      "/tmp/ipykernel_411/1864876890.py:29: DeprecationWarning: NEAREST is deprecated and will be removed in Pillow 10 (2023-07-01). Use Resampling.NEAREST or Dither.NONE instead.\n",
      "  mask = TF.functional.resize(img=mask, size=[360, 640], interpolation=Image.NEAREST)\n",
      "/tmp/ipykernel_411/1864876890.py:29: DeprecationWarning: NEAREST is deprecated and will be removed in Pillow 10 (2023-07-01). Use Resampling.NEAREST or Dither.NONE instead.\n",
      "  mask = TF.functional.resize(img=mask, size=[360, 640], interpolation=Image.NEAREST)\n",
      "Epoch 27/30: 100%|████████████████████████████████████████████████████████████████████████████████████████████████████████████████████████████████| 1750/1750 [12:22<00:00,  2.36batch/s, loss=0.0409]\n",
      "Validation:   0%|                                                                                                                                                          | 0/250 [00:00<?, ?batch/s]/tmp/ipykernel_411/1864876890.py:29: DeprecationWarning: NEAREST is deprecated and will be removed in Pillow 10 (2023-07-01). Use Resampling.NEAREST or Dither.NONE instead.\n",
      "  mask = TF.functional.resize(img=mask, size=[360, 640], interpolation=Image.NEAREST)\n",
      "/tmp/ipykernel_411/1864876890.py:29: DeprecationWarning: NEAREST is deprecated and will be removed in Pillow 10 (2023-07-01). Use Resampling.NEAREST or Dither.NONE instead.\n",
      "  mask = TF.functional.resize(img=mask, size=[360, 640], interpolation=Image.NEAREST)\n",
      "/tmp/ipykernel_411/1864876890.py:29: DeprecationWarning: NEAREST is deprecated and will be removed in Pillow 10 (2023-07-01). Use Resampling.NEAREST or Dither.NONE instead.\n",
      "  mask = TF.functional.resize(img=mask, size=[360, 640], interpolation=Image.NEAREST)\n",
      "/tmp/ipykernel_411/1864876890.py:29: DeprecationWarning: NEAREST is deprecated and will be removed in Pillow 10 (2023-07-01). Use Resampling.NEAREST or Dither.NONE instead.\n",
      "  mask = TF.functional.resize(img=mask, size=[360, 640], interpolation=Image.NEAREST)\n",
      "/tmp/ipykernel_411/1864876890.py:29: DeprecationWarning: NEAREST is deprecated and will be removed in Pillow 10 (2023-07-01). Use Resampling.NEAREST or Dither.NONE instead.\n",
      "  mask = TF.functional.resize(img=mask, size=[360, 640], interpolation=Image.NEAREST)\n",
      "/tmp/ipykernel_411/1864876890.py:29: DeprecationWarning: NEAREST is deprecated and will be removed in Pillow 10 (2023-07-01). Use Resampling.NEAREST or Dither.NONE instead.\n",
      "  mask = TF.functional.resize(img=mask, size=[360, 640], interpolation=Image.NEAREST)\n",
      "Validation: 100%|████████████████████████████████████████████████████████████████████████████████████████████████████████████████████████████████| 250/250 [00:57<00:00,  4.32batch/s, mean_iou=0.591]\n"
     ]
    },
    {
     "name": "stdout",
     "output_type": "stream",
     "text": [
      "Epoch 27/30 - Mean IoU: 0.5984\n"
     ]
    },
    {
     "name": "stderr",
     "output_type": "stream",
     "text": [
      "Epoch 28/30:   0%|                                                                                                                                                        | 0/1750 [00:00<?, ?batch/s]/tmp/ipykernel_411/1864876890.py:29: DeprecationWarning: NEAREST is deprecated and will be removed in Pillow 10 (2023-07-01). Use Resampling.NEAREST or Dither.NONE instead.\n",
      "  mask = TF.functional.resize(img=mask, size=[360, 640], interpolation=Image.NEAREST)\n",
      "/tmp/ipykernel_411/1864876890.py:29: DeprecationWarning: NEAREST is deprecated and will be removed in Pillow 10 (2023-07-01). Use Resampling.NEAREST or Dither.NONE instead.\n",
      "  mask = TF.functional.resize(img=mask, size=[360, 640], interpolation=Image.NEAREST)\n",
      "/tmp/ipykernel_411/1864876890.py:29: DeprecationWarning: NEAREST is deprecated and will be removed in Pillow 10 (2023-07-01). Use Resampling.NEAREST or Dither.NONE instead.\n",
      "  mask = TF.functional.resize(img=mask, size=[360, 640], interpolation=Image.NEAREST)\n",
      "/tmp/ipykernel_411/1864876890.py:29: DeprecationWarning: NEAREST is deprecated and will be removed in Pillow 10 (2023-07-01). Use Resampling.NEAREST or Dither.NONE instead.\n",
      "  mask = TF.functional.resize(img=mask, size=[360, 640], interpolation=Image.NEAREST)\n",
      "/tmp/ipykernel_411/1864876890.py:29: DeprecationWarning: NEAREST is deprecated and will be removed in Pillow 10 (2023-07-01). Use Resampling.NEAREST or Dither.NONE instead.\n",
      "  mask = TF.functional.resize(img=mask, size=[360, 640], interpolation=Image.NEAREST)\n",
      "/tmp/ipykernel_411/1864876890.py:29: DeprecationWarning: NEAREST is deprecated and will be removed in Pillow 10 (2023-07-01). Use Resampling.NEAREST or Dither.NONE instead.\n",
      "  mask = TF.functional.resize(img=mask, size=[360, 640], interpolation=Image.NEAREST)\n",
      "Epoch 28/30: 100%|████████████████████████████████████████████████████████████████████████████████████████████████████████████████████████████████| 1750/1750 [12:22<00:00,  2.36batch/s, loss=0.0144]\n",
      "Validation:   0%|                                                                                                                                                          | 0/250 [00:00<?, ?batch/s]/tmp/ipykernel_411/1864876890.py:29: DeprecationWarning: NEAREST is deprecated and will be removed in Pillow 10 (2023-07-01). Use Resampling.NEAREST or Dither.NONE instead.\n",
      "  mask = TF.functional.resize(img=mask, size=[360, 640], interpolation=Image.NEAREST)\n",
      "/tmp/ipykernel_411/1864876890.py:29: DeprecationWarning: NEAREST is deprecated and will be removed in Pillow 10 (2023-07-01). Use Resampling.NEAREST or Dither.NONE instead.\n",
      "  mask = TF.functional.resize(img=mask, size=[360, 640], interpolation=Image.NEAREST)\n",
      "/tmp/ipykernel_411/1864876890.py:29: DeprecationWarning: NEAREST is deprecated and will be removed in Pillow 10 (2023-07-01). Use Resampling.NEAREST or Dither.NONE instead.\n",
      "  mask = TF.functional.resize(img=mask, size=[360, 640], interpolation=Image.NEAREST)\n",
      "/tmp/ipykernel_411/1864876890.py:29: DeprecationWarning: NEAREST is deprecated and will be removed in Pillow 10 (2023-07-01). Use Resampling.NEAREST or Dither.NONE instead.\n",
      "  mask = TF.functional.resize(img=mask, size=[360, 640], interpolation=Image.NEAREST)\n",
      "/tmp/ipykernel_411/1864876890.py:29: DeprecationWarning: NEAREST is deprecated and will be removed in Pillow 10 (2023-07-01). Use Resampling.NEAREST or Dither.NONE instead.\n",
      "  mask = TF.functional.resize(img=mask, size=[360, 640], interpolation=Image.NEAREST)\n",
      "/tmp/ipykernel_411/1864876890.py:29: DeprecationWarning: NEAREST is deprecated and will be removed in Pillow 10 (2023-07-01). Use Resampling.NEAREST or Dither.NONE instead.\n",
      "  mask = TF.functional.resize(img=mask, size=[360, 640], interpolation=Image.NEAREST)\n",
      "Validation: 100%|█████████████████████████████████████████████████████████████████████████████████████████████████████████████████████████████████| 250/250 [00:57<00:00,  4.33batch/s, mean_iou=0.59]\n"
     ]
    },
    {
     "name": "stdout",
     "output_type": "stream",
     "text": [
      "Epoch 28/30 - Mean IoU: 0.5980\n"
     ]
    },
    {
     "name": "stderr",
     "output_type": "stream",
     "text": [
      "Epoch 29/30:   0%|                                                                                                                                                        | 0/1750 [00:00<?, ?batch/s]/tmp/ipykernel_411/1864876890.py:29: DeprecationWarning: NEAREST is deprecated and will be removed in Pillow 10 (2023-07-01). Use Resampling.NEAREST or Dither.NONE instead.\n",
      "  mask = TF.functional.resize(img=mask, size=[360, 640], interpolation=Image.NEAREST)\n",
      "/tmp/ipykernel_411/1864876890.py:29: DeprecationWarning: NEAREST is deprecated and will be removed in Pillow 10 (2023-07-01). Use Resampling.NEAREST or Dither.NONE instead.\n",
      "  mask = TF.functional.resize(img=mask, size=[360, 640], interpolation=Image.NEAREST)\n",
      "/tmp/ipykernel_411/1864876890.py:29: DeprecationWarning: NEAREST is deprecated and will be removed in Pillow 10 (2023-07-01). Use Resampling.NEAREST or Dither.NONE instead.\n",
      "  mask = TF.functional.resize(img=mask, size=[360, 640], interpolation=Image.NEAREST)\n",
      "/tmp/ipykernel_411/1864876890.py:29: DeprecationWarning: NEAREST is deprecated and will be removed in Pillow 10 (2023-07-01). Use Resampling.NEAREST or Dither.NONE instead.\n",
      "  mask = TF.functional.resize(img=mask, size=[360, 640], interpolation=Image.NEAREST)\n",
      "/tmp/ipykernel_411/1864876890.py:29: DeprecationWarning: NEAREST is deprecated and will be removed in Pillow 10 (2023-07-01). Use Resampling.NEAREST or Dither.NONE instead.\n",
      "  mask = TF.functional.resize(img=mask, size=[360, 640], interpolation=Image.NEAREST)\n",
      "/tmp/ipykernel_411/1864876890.py:29: DeprecationWarning: NEAREST is deprecated and will be removed in Pillow 10 (2023-07-01). Use Resampling.NEAREST or Dither.NONE instead.\n",
      "  mask = TF.functional.resize(img=mask, size=[360, 640], interpolation=Image.NEAREST)\n",
      "Epoch 29/30: 100%|████████████████████████████████████████████████████████████████████████████████████████████████████████████████████████████████| 1750/1750 [12:22<00:00,  2.36batch/s, loss=0.0122]\n",
      "Validation:   0%|                                                                                                                                                          | 0/250 [00:00<?, ?batch/s]/tmp/ipykernel_411/1864876890.py:29: DeprecationWarning: NEAREST is deprecated and will be removed in Pillow 10 (2023-07-01). Use Resampling.NEAREST or Dither.NONE instead.\n",
      "  mask = TF.functional.resize(img=mask, size=[360, 640], interpolation=Image.NEAREST)\n",
      "/tmp/ipykernel_411/1864876890.py:29: DeprecationWarning: NEAREST is deprecated and will be removed in Pillow 10 (2023-07-01). Use Resampling.NEAREST or Dither.NONE instead.\n",
      "  mask = TF.functional.resize(img=mask, size=[360, 640], interpolation=Image.NEAREST)\n",
      "/tmp/ipykernel_411/1864876890.py:29: DeprecationWarning: NEAREST is deprecated and will be removed in Pillow 10 (2023-07-01). Use Resampling.NEAREST or Dither.NONE instead.\n",
      "  mask = TF.functional.resize(img=mask, size=[360, 640], interpolation=Image.NEAREST)\n",
      "/tmp/ipykernel_411/1864876890.py:29: DeprecationWarning: NEAREST is deprecated and will be removed in Pillow 10 (2023-07-01). Use Resampling.NEAREST or Dither.NONE instead.\n",
      "  mask = TF.functional.resize(img=mask, size=[360, 640], interpolation=Image.NEAREST)\n",
      "/tmp/ipykernel_411/1864876890.py:29: DeprecationWarning: NEAREST is deprecated and will be removed in Pillow 10 (2023-07-01). Use Resampling.NEAREST or Dither.NONE instead.\n",
      "  mask = TF.functional.resize(img=mask, size=[360, 640], interpolation=Image.NEAREST)\n",
      "/tmp/ipykernel_411/1864876890.py:29: DeprecationWarning: NEAREST is deprecated and will be removed in Pillow 10 (2023-07-01). Use Resampling.NEAREST or Dither.NONE instead.\n",
      "  mask = TF.functional.resize(img=mask, size=[360, 640], interpolation=Image.NEAREST)\n",
      "Validation: 100%|█████████████████████████████████████████████████████████████████████████████████████████████████████████████████████████████████| 250/250 [00:57<00:00,  4.32batch/s, mean_iou=0.59]\n"
     ]
    },
    {
     "name": "stdout",
     "output_type": "stream",
     "text": [
      "Epoch 29/30 - Mean IoU: 0.5980\n"
     ]
    },
    {
     "name": "stderr",
     "output_type": "stream",
     "text": [
      "Epoch 30/30:   0%|                                                                                                                                                        | 0/1750 [00:00<?, ?batch/s]/tmp/ipykernel_411/1864876890.py:29: DeprecationWarning: NEAREST is deprecated and will be removed in Pillow 10 (2023-07-01). Use Resampling.NEAREST or Dither.NONE instead.\n",
      "  mask = TF.functional.resize(img=mask, size=[360, 640], interpolation=Image.NEAREST)\n",
      "/tmp/ipykernel_411/1864876890.py:29: DeprecationWarning: NEAREST is deprecated and will be removed in Pillow 10 (2023-07-01). Use Resampling.NEAREST or Dither.NONE instead.\n",
      "  mask = TF.functional.resize(img=mask, size=[360, 640], interpolation=Image.NEAREST)\n",
      "/tmp/ipykernel_411/1864876890.py:29: DeprecationWarning: NEAREST is deprecated and will be removed in Pillow 10 (2023-07-01). Use Resampling.NEAREST or Dither.NONE instead.\n",
      "  mask = TF.functional.resize(img=mask, size=[360, 640], interpolation=Image.NEAREST)\n",
      "/tmp/ipykernel_411/1864876890.py:29: DeprecationWarning: NEAREST is deprecated and will be removed in Pillow 10 (2023-07-01). Use Resampling.NEAREST or Dither.NONE instead.\n",
      "  mask = TF.functional.resize(img=mask, size=[360, 640], interpolation=Image.NEAREST)\n",
      "/tmp/ipykernel_411/1864876890.py:29: DeprecationWarning: NEAREST is deprecated and will be removed in Pillow 10 (2023-07-01). Use Resampling.NEAREST or Dither.NONE instead.\n",
      "  mask = TF.functional.resize(img=mask, size=[360, 640], interpolation=Image.NEAREST)\n",
      "/tmp/ipykernel_411/1864876890.py:29: DeprecationWarning: NEAREST is deprecated and will be removed in Pillow 10 (2023-07-01). Use Resampling.NEAREST or Dither.NONE instead.\n",
      "  mask = TF.functional.resize(img=mask, size=[360, 640], interpolation=Image.NEAREST)\n",
      "Epoch 30/30: 100%|████████████████████████████████████████████████████████████████████████████████████████████████████████████████████████████████| 1750/1750 [12:22<00:00,  2.36batch/s, loss=0.0119]\n",
      "Validation:   0%|                                                                                                                                                          | 0/250 [00:00<?, ?batch/s]/tmp/ipykernel_411/1864876890.py:29: DeprecationWarning: NEAREST is deprecated and will be removed in Pillow 10 (2023-07-01). Use Resampling.NEAREST or Dither.NONE instead.\n",
      "  mask = TF.functional.resize(img=mask, size=[360, 640], interpolation=Image.NEAREST)\n",
      "/tmp/ipykernel_411/1864876890.py:29: DeprecationWarning: NEAREST is deprecated and will be removed in Pillow 10 (2023-07-01). Use Resampling.NEAREST or Dither.NONE instead.\n",
      "  mask = TF.functional.resize(img=mask, size=[360, 640], interpolation=Image.NEAREST)\n",
      "/tmp/ipykernel_411/1864876890.py:29: DeprecationWarning: NEAREST is deprecated and will be removed in Pillow 10 (2023-07-01). Use Resampling.NEAREST or Dither.NONE instead.\n",
      "  mask = TF.functional.resize(img=mask, size=[360, 640], interpolation=Image.NEAREST)\n",
      "/tmp/ipykernel_411/1864876890.py:29: DeprecationWarning: NEAREST is deprecated and will be removed in Pillow 10 (2023-07-01). Use Resampling.NEAREST or Dither.NONE instead.\n",
      "  mask = TF.functional.resize(img=mask, size=[360, 640], interpolation=Image.NEAREST)\n",
      "/tmp/ipykernel_411/1864876890.py:29: DeprecationWarning: NEAREST is deprecated and will be removed in Pillow 10 (2023-07-01). Use Resampling.NEAREST or Dither.NONE instead.\n",
      "  mask = TF.functional.resize(img=mask, size=[360, 640], interpolation=Image.NEAREST)\n",
      "/tmp/ipykernel_411/1864876890.py:29: DeprecationWarning: NEAREST is deprecated and will be removed in Pillow 10 (2023-07-01). Use Resampling.NEAREST or Dither.NONE instead.\n",
      "  mask = TF.functional.resize(img=mask, size=[360, 640], interpolation=Image.NEAREST)\n",
      "Validation: 100%|█████████████████████████████████████████████████████████████████████████████████████████████████████████████████████████████████| 250/250 [00:57<00:00,  4.33batch/s, mean_iou=0.59]"
     ]
    },
    {
     "name": "stdout",
     "output_type": "stream",
     "text": [
      "Epoch 30/30 - Mean IoU: 0.5984\n",
      "Loaded the best model weights!\n"
     ]
    },
    {
     "name": "stderr",
     "output_type": "stream",
     "text": [
      "\n"
     ]
    }
   ],
   "source": [
    "# Define the optimizer.\n",
    "optimizer = AdamW(model.parameters(), lr=5e-5)\n",
    "\n",
    "# Define the learning rate scheduler.\n",
    "num_epochs = 30\n",
    "num_training_steps = num_epochs * len(train_loader)\n",
    "lr_scheduler = get_scheduler(\n",
    "    \"linear\",\n",
    "    optimizer=optimizer,\n",
    "    num_warmup_steps=0,\n",
    "    num_training_steps=num_training_steps\n",
    ")\n",
    "\n",
    "# Placeholder for best mean IoU and best model weights.\n",
    "best_iou = 0.0\n",
    "best_model_wts = copy.deepcopy(model.state_dict())\n",
    "\n",
    "for epoch in range(num_epochs):\n",
    "    model.train()\n",
    "    train_iterator = tqdm(train_loader, desc=f\"Epoch {epoch + 1}/{num_epochs}\", unit=\"batch\")\n",
    "    for batch in train_iterator:\n",
    "        images, masks = batch\n",
    "        images = images.to(device)\n",
    "        masks = masks.to(device).long()  # Ensure masks are LongTensors.\n",
    "\n",
    "        # Remove the channel dimension from the masks tensor.\n",
    "        masks = masks.squeeze(1)  # This changes the shape from [batch, 1, H, W] to [batch, H, W].\n",
    "        optimizer.zero_grad()\n",
    "\n",
    "        # Pass pixel_values and labels to the model.\n",
    "        outputs = model(pixel_values=images, labels=masks,return_dict=True)\n",
    "        \n",
    "        loss = outputs[\"loss\"]\n",
    "        loss.backward()\n",
    "\n",
    "        optimizer.step()\n",
    "        lr_scheduler.step()\n",
    "        outputs = F.interpolate(outputs[\"logits\"], size=masks.shape[-2:], mode=\"bilinear\", align_corners=False)\n",
    "        \n",
    "        train_iterator.set_postfix(loss=loss.item())\n",
    "    \n",
    "    # Evaluation loop for each epoch.\n",
    "    model.eval()\n",
    "    total_iou = 0\n",
    "    num_batches = 0\n",
    "    valid_iterator = tqdm(valid_loader, desc=\"Validation\", unit=\"batch\")\n",
    "    for batch in valid_iterator:\n",
    "        images, masks = batch\n",
    "        images = images.to(device)\n",
    "        masks = masks.to(device).long()\n",
    "    \n",
    "        with torch.no_grad():\n",
    "            # Get the logits from the model and apply argmax to get the predictions.\n",
    "            outputs = model(pixel_values=images,return_dict=True)\n",
    "            outputs = F.interpolate(outputs[\"logits\"], size=masks.shape[-2:], mode=\"bilinear\", align_corners=False)\n",
    "            preds = torch.argmax(outputs, dim=1)\n",
    "            preds = torch.unsqueeze(preds, dim=1)\n",
    "\n",
    "        preds = preds.view(-1)\n",
    "        masks = masks.view(-1)\n",
    "    \n",
    "        # Compute IoU\n",
    "        iou = mean_iou(preds, masks, model.config.num_labels)\n",
    "        total_iou += iou\n",
    "        num_batches += 1\n",
    "        valid_iterator.set_postfix(mean_iou=iou)\n",
    "    \n",
    "    epoch_iou = total_iou / num_batches\n",
    "    print(f\"Epoch {epoch+1}/{num_epochs} - Mean IoU: {epoch_iou:.4f}\")\n",
    "\n",
    "    # Check for improvement\n",
    "    if epoch_iou > best_iou:\n",
    "        print(f\"Validation IoU improved from {best_iou:.4f} to {epoch_iou:.4f}\")\n",
    "        best_iou = epoch_iou\n",
    "        best_model_wts = copy.deepcopy(model.state_dict())\n",
    "        torch.save(best_model_wts, 'best_model.pth')\n",
    "\n",
    "# After all epochs, load the best model weights - optional.\n",
    "model.load_state_dict(torch.load('best_model.pth'))\n",
    "print(\"Loaded the best model weights!\")"
   ]
  }
 ],
 "metadata": {
  "kernelspec": {
   "display_name": "pyml-book",
   "language": "python",
   "name": "python3"
  },
  "language_info": {
   "codemirror_mode": {
    "name": "ipython",
    "version": 3
   },
   "file_extension": ".py",
   "mimetype": "text/x-python",
   "name": "python",
   "nbconvert_exporter": "python",
   "pygments_lexer": "ipython3",
   "version": "3.9.19"
  }
 },
 "nbformat": 4,
 "nbformat_minor": 5
}
